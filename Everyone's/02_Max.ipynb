{
 "cells": [
  {
   "cell_type": "code",
   "execution_count": 2,
   "metadata": {},
   "outputs": [
    {
     "name": "stdout",
     "output_type": "stream",
     "text": [
      "92\n"
     ]
    }
   ],
   "source": [
    "#최댓값 구하기\n",
    "\n",
    "def find_max(a): \n",
    "    n = len(a)                #입력크기 n\n",
    "    max_v = a[0]              #리스트의 첫 번째 값을 최댓값으로 기억\n",
    "    for i in range(1, n):     # 1부터 n -1까지 반복\n",
    "        if a[i] > max_v:      # i번째 값이 현재까지 기록된 최댓값보다 크면\n",
    "            max_v = a[i]      # 해당값이 맥스밸류\n",
    "    return max_v\n",
    "\n",
    "v = [17, 92, 18, 33, 58, 7, 33, 42]\n",
    "print(find_max(v))"
   ]
  },
  {
   "cell_type": "code",
   "execution_count": 12,
   "metadata": {},
   "outputs": [
    {
     "name": "stdout",
     "output_type": "stream",
     "text": [
      "1\n"
     ]
    }
   ],
   "source": [
    "#최댓값 인덱스구하기\n",
    "def find_max_idx(a):\n",
    "    n = len(a)\n",
    "    max_i = 0\n",
    "    for i in range(1, n):\n",
    "        if a[i] > a[max_i]:\n",
    "            max_i = i\n",
    "    return max_i\n",
    "\n",
    "v = [17, 92, 18, 33, 58, 7, 33, 42]\n",
    "print(find_max_idx(v))"
   ]
  }
 ],
 "metadata": {
  "kernelspec": {
   "display_name": "Python 3",
   "language": "python",
   "name": "python3"
  },
  "language_info": {
   "codemirror_mode": {
    "name": "ipython",
    "version": 3
   },
   "file_extension": ".py",
   "mimetype": "text/x-python",
   "name": "python",
   "nbconvert_exporter": "python",
   "pygments_lexer": "ipython3",
   "version": "3.8.5"
  }
 },
 "nbformat": 4,
 "nbformat_minor": 4
}
