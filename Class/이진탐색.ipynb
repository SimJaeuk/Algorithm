{
 "cells": [
  {
   "cell_type": "code",
   "execution_count": 39,
   "id": "featured-sigma",
   "metadata": {},
   "outputs": [
    {
     "name": "stdout",
     "output_type": "stream",
     "text": [
      "검색할 데이터 입력 : 99\n",
      "찾지 못했습니다.\n"
     ]
    }
   ],
   "source": [
    "def binary_search(arr, search):    \n",
    "    head = 0\n",
    "    tail = len(arr) - 1\n",
    "    \n",
    "    while head <= tail:\n",
    "        center = (head + tail) // 2        \n",
    "        if search == arr[center]:\n",
    "            print(center , \"번째의 요소가 일치\")\n",
    "            break\n",
    "        elif search > arr[center]:\n",
    "            head = center + 1\n",
    "        elif search < arr[center]:\n",
    "            tail = center - 1\n",
    "            \n",
    "    if head > tail:\n",
    "        print(\"찾지 못했습니다.\")\n",
    "        \n",
    "        \n",
    "arr = [11, 13, 17, 19, 23, 29, 31]\n",
    "search = int(input(\"검색할 데이터 입력 : \"))\n",
    "binary_search(arr, search)"
   ]
  },
  {
   "cell_type": "code",
   "execution_count": 7,
   "id": "labeled-radius",
   "metadata": {},
   "outputs": [
    {
     "data": {
      "text/plain": [
       "3"
      ]
     },
     "execution_count": 7,
     "metadata": {},
     "output_type": "execute_result"
    }
   ],
   "source": []
  },
  {
   "cell_type": "code",
   "execution_count": null,
   "id": "expanded-thursday",
   "metadata": {},
   "outputs": [],
   "source": []
  }
 ],
 "metadata": {
  "kernelspec": {
   "display_name": "Python 3",
   "language": "python",
   "name": "python3"
  },
  "language_info": {
   "codemirror_mode": {
    "name": "ipython",
    "version": 3
   },
   "file_extension": ".py",
   "mimetype": "text/x-python",
   "name": "python",
   "nbconvert_exporter": "python",
   "pygments_lexer": "ipython3",
   "version": "3.8.8"
  }
 },
 "nbformat": 4,
 "nbformat_minor": 5
}
