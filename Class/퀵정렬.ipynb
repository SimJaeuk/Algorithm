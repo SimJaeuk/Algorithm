{
 "cells": [
  {
   "cell_type": "code",
   "execution_count": 11,
   "id": "urban-jungle",
   "metadata": {},
   "outputs": [
    {
     "name": "stdout",
     "output_type": "stream",
     "text": [
      "[1, 8, 9, 12, 25, 31, 32, 98, 102]\n"
     ]
    }
   ],
   "source": [
    "def Quick_sort(a):\n",
    "    n=len(a)\n",
    "    if n<=1: #리스트가 1개면 정렬하지 않는다.\n",
    "        return a\n",
    "    pivot = a[-1] #리스트의 마지막을 피벗이라고 구함\n",
    "    g_left=[]  #피벗 수보다 작은 수를 담을 리스트\n",
    "    g_right=[] #피벗 수보다 큰 수를 담을 리스트\n",
    "    for i in range(0,n-1):\n",
    "        if a[i]<=pivot:\n",
    "            g_left.append(a[i]) #리스트의 수가 피벗보다 작으면 g_left에 추가\n",
    "        else:\n",
    "            g_right.append(a[i])\n",
    "    return Quick_sort(g_left)+ [pivot] + Quick_sort(g_right) #새로운 리스트를 만듬\n",
    "\n",
    "d = [8,12,1,9,102,25,32,98,31]\n",
    "print(Quick_sort(d))"
   ]
  }
 ],
 "metadata": {
  "kernelspec": {
   "display_name": "Python 3",
   "language": "python",
   "name": "python3"
  },
  "language_info": {
   "codemirror_mode": {
    "name": "ipython",
    "version": 3
   },
   "file_extension": ".py",
   "mimetype": "text/x-python",
   "name": "python",
   "nbconvert_exporter": "python",
   "pygments_lexer": "ipython3",
   "version": "3.8.8"
  }
 },
 "nbformat": 4,
 "nbformat_minor": 5
}
