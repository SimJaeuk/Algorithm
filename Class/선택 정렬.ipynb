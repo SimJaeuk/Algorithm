{
 "cells": [
  {
   "cell_type": "code",
   "execution_count": 20,
   "id": "dietary-merit",
   "metadata": {},
   "outputs": [
    {
     "name": "stdout",
     "output_type": "stream",
     "text": [
      "[10, 11, 12, 13, 14]\n"
     ]
    }
   ],
   "source": [
    "def SSort(arr):\n",
    "    for i in range(len(arr)):\n",
    "        indexMin = i #임시로 인덱스 0을 최소값으로 설정\n",
    "        for j in range(i+1, len(arr)):\n",
    "            if arr[j] < arr[indexMin]: #0번째와 1번째 비교\n",
    "                indexMin = j #1번째가 작으면 1번째를 작은값설정\n",
    "                \n",
    "        arr[i], arr[indexMin] = arr[indexMin], arr[i] #자리 바꾸기\n",
    "    return arr\n",
    "    \n",
    "array = [12,13,11,14,10]\n",
    "print(SSort(array))"
   ]
  },
  {
   "cell_type": "code",
   "execution_count": 21,
   "id": "affecting-booth",
   "metadata": {},
   "outputs": [
    {
     "name": "stdout",
     "output_type": "stream",
     "text": [
      "[10, 11, 12, 13, 14]\n"
     ]
    }
   ],
   "source": [
    "array = [12,13,11,14,10]\n",
    "\n",
    "for i in range(len(array)):\n",
    "    w = array[i] # index 0을 w임시 최소값설정\n",
    "    indexMin = array.index(min(array[i:])) #array 중에 가장 작은값의 인덱스 (10)\n",
    "    array[i] = array[indexMin] # i를 최소값 자리로 이동\n",
    "    array[indexMin] = w #임시 변수에 넣어두었던 값과 교환\n",
    "    \n",
    "print(array)    "
   ]
  },
  {
   "cell_type": "code",
   "execution_count": null,
   "id": "bound-stability",
   "metadata": {},
   "outputs": [],
   "source": []
  }
 ],
 "metadata": {
  "kernelspec": {
   "display_name": "Python 3",
   "language": "python",
   "name": "python3"
  },
  "language_info": {
   "codemirror_mode": {
    "name": "ipython",
    "version": 3
   },
   "file_extension": ".py",
   "mimetype": "text/x-python",
   "name": "python",
   "nbconvert_exporter": "python",
   "pygments_lexer": "ipython3",
   "version": "3.8.8"
  }
 },
 "nbformat": 4,
 "nbformat_minor": 5
}
