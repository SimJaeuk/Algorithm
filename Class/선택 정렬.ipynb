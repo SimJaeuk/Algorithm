{
 "cells": [
  {
   "cell_type": "code",
   "execution_count": 19,
   "id": "controlled-passing",
   "metadata": {},
   "outputs": [
    {
     "name": "stdout",
     "output_type": "stream",
     "text": [
      "[10, 11, 12, 13, 14]\n"
     ]
    }
   ],
   "source": [
    "def SSort(arr):\n",
    "    for i in range(len(arr)):\n",
    "        indexMin = i #임시로 인덱스 0을 최소값으로 설정\n",
    "        for j in range(i+1, len(arr)):\n",
    "            if arr[j] < arr[indexMin]: #0번째와 1번째 비교\n",
    "                indexMin = j #1번째가 작으면 1번째를 작은값설정\n",
    "                \n",
    "        arr[i], arr[indexMin] = arr[indexMin], arr[i] #자리 바꾸기\n",
    "    return arr\n",
    "    \n",
    "array = [12,13,11,14,10]\n",
    "print(SSort(array))"
   ]
  }
 ],
 "metadata": {
  "kernelspec": {
   "display_name": "Python 3",
   "language": "python",
   "name": "python3"
  },
  "language_info": {
   "codemirror_mode": {
    "name": "ipython",
    "version": 3
   },
   "file_extension": ".py",
   "mimetype": "text/x-python",
   "name": "python",
   "nbconvert_exporter": "python",
   "pygments_lexer": "ipython3",
   "version": "3.8.8"
  }
 },
 "nbformat": 4,
 "nbformat_minor": 5
}
