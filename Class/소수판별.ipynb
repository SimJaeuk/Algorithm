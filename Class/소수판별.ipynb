{
 "cells": [
  {
   "cell_type": "code",
   "execution_count": 1,
   "id": "dangerous-joshua",
   "metadata": {},
   "outputs": [
    {
     "name": "stdout",
     "output_type": "stream",
     "text": [
      "31는 소수이다.\n"
     ]
    },
    {
     "data": {
      "text/plain": [
       "True"
      ]
     },
     "execution_count": 1,
     "metadata": {},
     "output_type": "execute_result"
    }
   ],
   "source": [
    "# 소수찾기 알고맂므은 암호찾기에 응용되서 많이 사용 됨\n",
    "# 에라토스 테네스에서의 기법들이 활용됨\n",
    "\n",
    "def is_prime(a):\n",
    "    b = range (2, a) # 2부터 a-1까지의 리스트\n",
    "    c = 0\n",
    "    for i in b:\n",
    "        if a % i == 0:\n",
    "            c += 1\n",
    "    if c > 0:\n",
    "        print(f'{a}는 소수가 아니다.')\n",
    "        d = False\n",
    "    else:\n",
    "        print(f'{a}는 소수이다.')\n",
    "        d = True\n",
    "    return d\n",
    "\n",
    "is_prime(31)"
   ]
  },
  {
   "cell_type": "code",
   "execution_count": 44,
   "id": "hindu-fairy",
   "metadata": {},
   "outputs": [
    {
     "name": "stdout",
     "output_type": "stream",
     "text": [
      "100 이하의 소수 목록\n",
      "2  3  5  7  11  13  17  19  23  29  31  37  41  43  47  53  59  61  67  71  73  79  83  89  97  "
     ]
    }
   ],
   "source": [
    "#100 이하의 소수를 찾는 프로그램을 작성하세요.\n",
    "print('100 이하의 소수 목록')\n",
    "for i in range(1, 101):\n",
    "    b = range(2, i)\n",
    "    c = 0\n",
    "    for j in b:\n",
    "        if i % j == 0:\n",
    "            c += 1\n",
    "    if i == 1 or c > 0:\n",
    "        pass\n",
    "    else:\n",
    "        print(i , end='  ')\n",
    "        d = True"
   ]
  },
  {
   "cell_type": "code",
   "execution_count": 10,
   "id": "naval-pitch",
   "metadata": {},
   "outputs": [
    {
     "name": "stdout",
     "output_type": "stream",
     "text": [
      "123\n",
      "NO\n"
     ]
    }
   ],
   "source": []
  },
  {
   "cell_type": "code",
   "execution_count": null,
   "id": "reliable-maria",
   "metadata": {},
   "outputs": [],
   "source": []
  }
 ],
 "metadata": {
  "kernelspec": {
   "display_name": "Python 3",
   "language": "python",
   "name": "python3"
  },
  "language_info": {
   "codemirror_mode": {
    "name": "ipython",
    "version": 3
   },
   "file_extension": ".py",
   "mimetype": "text/x-python",
   "name": "python",
   "nbconvert_exporter": "python",
   "pygments_lexer": "ipython3",
   "version": "3.8.8"
  }
 },
 "nbformat": 4,
 "nbformat_minor": 5
}
