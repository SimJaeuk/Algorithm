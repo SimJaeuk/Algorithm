{
 "cells": [
  {
   "cell_type": "code",
   "execution_count": 1,
   "id": "manufactured-ranch",
   "metadata": {},
   "outputs": [
    {
     "name": "stdout",
     "output_type": "stream",
     "text": [
      "[1, 2, 3, 4, 5]\n"
     ]
    }
   ],
   "source": [
    "def bubble_sort(arr):                                    \n",
    "    for i in range(len(arr) - 1, 0, -1):                 \n",
    "        for j in range(i):\n",
    "            if arr[j] > arr[j + 1]:\n",
    "                arr[j], arr[j + 1] = arr[j + 1], arr[j]\n",
    "    return arr\n",
    "    \n",
    "array = [5,3,4,1,2]\n",
    "print(bubble_sort(array))"
   ]
  },
  {
   "cell_type": "code",
   "execution_count": 2,
   "id": "ready-fence",
   "metadata": {},
   "outputs": [
    {
     "data": {
      "text/plain": [
       "[1, 2, 3, 4, 5]"
      ]
     },
     "execution_count": 2,
     "metadata": {},
     "output_type": "execute_result"
    }
   ],
   "source": [
    "def bsort(nums):\n",
    "    for i in range(len(nums)-1):\n",
    "        for j in range(len(nums)-1-i):\n",
    "            if nums[j] > nums[j+1]:\n",
    "                nums[j], nums[j+1] = nums[j+1], nums[j]\n",
    "    return nums\n",
    "                \n",
    "bsort([5,3,4,1,2])"
   ]
  }
 ],
 "metadata": {
  "kernelspec": {
   "display_name": "Python 3",
   "language": "python",
   "name": "python3"
  },
  "language_info": {
   "codemirror_mode": {
    "name": "ipython",
    "version": 3
   },
   "file_extension": ".py",
   "mimetype": "text/x-python",
   "name": "python",
   "nbconvert_exporter": "python",
   "pygments_lexer": "ipython3",
   "version": "3.8.8"
  }
 },
 "nbformat": 4,
 "nbformat_minor": 5
}
