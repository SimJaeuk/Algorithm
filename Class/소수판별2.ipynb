{
 "cells": [
  {
   "cell_type": "code",
   "execution_count": 17,
   "id": "important-thomson",
   "metadata": {},
   "outputs": [
    {
     "data": {
      "text/plain": [
       "False"
      ]
     },
     "execution_count": 17,
     "metadata": {},
     "output_type": "execute_result"
    }
   ],
   "source": [
    "def is_prime(a):\n",
    "    b = range(2, a)\n",
    "    c = 0\n",
    "    for i in b:\n",
    "        if a % i == 0:\n",
    "            c += 1\n",
    "    if c > 0 :\n",
    "#         print(f'{a}는 소수가 아니다.')\n",
    "        d = False\n",
    "    else:\n",
    "#         print(f'{a}는 소수이다.')\n",
    "        d = True\n",
    "    return d\n",
    "        \n",
    "is_prime(50)"
   ]
  },
  {
   "cell_type": "code",
   "execution_count": 18,
   "id": "apparent-expansion",
   "metadata": {},
   "outputs": [
    {
     "name": "stdout",
     "output_type": "stream",
     "text": [
      "[1, 2, 3, 5, 7, 11, 13, 17, 19, 23, 29, 31, 37, 41, 43, 47, 53, 59, 61, 67, 71, 73, 79, 83, 89, 97]\n"
     ]
    }
   ],
   "source": [
    "a = range(1,101)\n",
    "prime_numbers = []\n",
    "for i in a:\n",
    "    c = is_prime(i)\n",
    "    if c == True:\n",
    "        prime_numbers.append(i)\n",
    "print(prime_numbers)"
   ]
  },
  {
   "cell_type": "code",
   "execution_count": 40,
   "id": "graphic-parts",
   "metadata": {},
   "outputs": [
    {
     "name": "stdout",
     "output_type": "stream",
     "text": [
      "25\n"
     ]
    }
   ],
   "source": [
    "# n 이하의 수중 소수의 개수 찾기\n",
    "\n",
    "def solution(n): \n",
    "    answer = 0   #갯수 담을 변수\n",
    "    number = []   # n 이하의 수중 소수 판단 소수가 아니면 -1\n",
    "    #스텝1 기본 방 설정\n",
    "    for i in range(n+1):   #입력받은 수까지 반복문\n",
    "        number.append(i)   # n까지의 모든 수를 number 리스트에 담기\n",
    "    #스텝2 소수 찾기, 소수가 아니면 -1로 변경\n",
    "    for i in range(2, n+1, 1):   # 2부터 (0하고 1은 소수가 아님) n까지 1개씩 반복문\n",
    "        if i == -1:   #만약 i가 -1이면\n",
    "            continue   #제자리로\n",
    "        j = 0   #j 초기화\n",
    "        for j in range(i+i, n+1, i): # i = 2\n",
    "            number[j] = -1   # 소수가 아닌 방에는 -1을 담기 (-1은 소수가 아님을 표시)\n",
    "    #스텝3 -1이 아닌 방의 갯수 세기\n",
    "    for i in range(2, n+1):\n",
    "        if number[i] != -1:\n",
    "            answer += 1\n",
    "    return answer\n",
    "\n",
    "            \n",
    "print(solution(100))"
   ]
  },
  {
   "cell_type": "code",
   "execution_count": 65,
   "id": "atmospheric-clearing",
   "metadata": {},
   "outputs": [
    {
     "name": "stdout",
     "output_type": "stream",
     "text": [
      "[2, 3, 5, 7, 11, 13, 17, 19, 23, 29, 31, 37, 41, 43, 47, 53, 59, 61, 67, 71, 73, 79, 83, 89, 97]\n"
     ]
    }
   ],
   "source": [
    "# n 이하의 수중 소수의 목록\n",
    "\n",
    "def solution(n): \n",
    "    answer = []   #소수 담을 리스트\n",
    "    number = []   # n 이하의 수중 소수 판단 소수가 아니면 -1\n",
    "    #스텝1 기본 방 설정\n",
    "    for i in range(n+1):   #입력받은 수까지 반복문\n",
    "        number.append(i)   # n까지의 모든 수를 number 리스트에 담기\n",
    "    #스텝2 소수 찾기, 소수가 아니면 -1로 변경\n",
    "    for i in range(2, n+1, 1):   # 2부터 (0하고 1은 소수가 아님) n까지 1개씩 반복문\n",
    "        if i == -1:   #만약 i가 -1이면\n",
    "            continue   #제자리로\n",
    "        j = 0   #j 초기화\n",
    "        for j in range(i+i, n+1, i): # i = 2\n",
    "            number[j] = -1   # 소수가 아닌 방에는 -1을 담기 (-1은 소수가 아님을 표시)\n",
    "    #스텝3 -1이 아닌 방의 갯수 세기\n",
    "    for i in range(2, n+1):\n",
    "        if number[i] != -1: # -1이 아닌 방의 값이 소수\n",
    "            answer.append(number[i])\n",
    "    return answer\n",
    "    \n",
    "            \n",
    "print(solution(100))"
   ]
  }
 ],
 "metadata": {
  "kernelspec": {
   "display_name": "Python 3",
   "language": "python",
   "name": "python3"
  },
  "language_info": {
   "codemirror_mode": {
    "name": "ipython",
    "version": 3
   },
   "file_extension": ".py",
   "mimetype": "text/x-python",
   "name": "python",
   "nbconvert_exporter": "python",
   "pygments_lexer": "ipython3",
   "version": "3.8.8"
  }
 },
 "nbformat": 4,
 "nbformat_minor": 5
}
