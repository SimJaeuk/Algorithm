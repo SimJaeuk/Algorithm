{
 "cells": [
  {
   "cell_type": "code",
   "execution_count": 43,
   "id": "durable-swing",
   "metadata": {},
   "outputs": [
    {
     "name": "stdout",
     "output_type": "stream",
     "text": [
      "4\n",
      "13\n"
     ]
    }
   ],
   "source": [
    "#유클리드 알고리즘 (최대 공약수 구하기)\n",
    "\n",
    "def euclid(x,y):          # 최소공약수 함수\n",
    "    if x > y:             # x가 y보다 크다면\n",
    "        t = x % y         # t는 x를 y로 나눈 수\n",
    "    elif x < y:           # y가 x보다 크다면\n",
    "        t = y % x         # t는 y를 x로 나눈 수 \n",
    "                           \n",
    "    \n",
    "    while t != 0: # t가 0이 아닐때 까지 반복\n",
    "        x, y = y, t      #  y값을 x에,  값을 y에\n",
    "        t = x % y  # x와 y의 나머지 t를 구한다.\n",
    "    \n",
    "    return y      # y값을 반환\n",
    "    \n",
    "print(euclid(12,8))\n",
    "print(euclid(221,143))"
   ]
  },
  {
   "cell_type": "code",
   "execution_count": 70,
   "id": "upper-beverage",
   "metadata": {},
   "outputs": [
    {
     "data": {
      "text/plain": [
       "13"
      ]
     },
     "execution_count": 70,
     "metadata": {},
     "output_type": "execute_result"
    }
   ],
   "source": [
    "#재귀 함수\n",
    "\n",
    "def euclid2(x,y):\n",
    "    t = x % y\n",
    "    x, y = y, t\n",
    "    if t == 0:\n",
    "        return x\n",
    "    return euclid2(x,y)\n",
    "\n",
    "euclid2(221,143)"
   ]
  },
  {
   "cell_type": "code",
   "execution_count": 81,
   "id": "minute-nightlife",
   "metadata": {},
   "outputs": [
    {
     "data": {
      "text/plain": [
       "13"
      ]
     },
     "execution_count": 81,
     "metadata": {},
     "output_type": "execute_result"
    }
   ],
   "source": [
    "#재귀 함수2\n",
    "\n",
    "def euclid3(x,y):\n",
    "    if x%y == 0:\n",
    "        return y\n",
    "    return euclid3(x,x%y)\n",
    "\n",
    "euclid3(221,143)"
   ]
  }
 ],
 "metadata": {
  "kernelspec": {
   "display_name": "Python 3",
   "language": "python",
   "name": "python3"
  },
  "language_info": {
   "codemirror_mode": {
    "name": "ipython",
    "version": 3
   },
   "file_extension": ".py",
   "mimetype": "text/x-python",
   "name": "python",
   "nbconvert_exporter": "python",
   "pygments_lexer": "ipython3",
   "version": "3.8.8"
  }
 },
 "nbformat": 4,
 "nbformat_minor": 5
}
