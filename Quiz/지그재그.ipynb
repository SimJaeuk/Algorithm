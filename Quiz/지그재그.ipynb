{
 "cells": [
  {
   "cell_type": "code",
   "execution_count": 33,
   "metadata": {},
   "outputs": [
    {
     "name": "stdout",
     "output_type": "stream",
     "text": [
      "v1 : 1,2\n",
      "v2 : 3,4,5,6\n"
     ]
    },
    {
     "data": {
      "text/plain": [
       "[1, 3, 2, 4, 5, 6]"
      ]
     },
     "execution_count": 33,
     "metadata": {},
     "output_type": "execute_result"
    }
   ],
   "source": [
    "class zig: #클래스 선언\n",
    "    def zigzag(a, b): #함수 선언\n",
    "        vlist = [] # 결과를 출력할 v 리스트\n",
    "        if len(v1) >= len(v2): # v1의 길이가 v2보다 길거나 같으면\n",
    "            a = len(v1) # a에 v1의 길이를 담기 \n",
    "        else: # 아닌경우\n",
    "            a = len(v2) # a에 v2의 길이를 담기\n",
    "        for i in range(a): # a의 길이만큼 반복\n",
    "            if i < len(v1): # i의 크기보다 v1의 길이가 길다면\n",
    "                vlist.append(v1[i]) # vlist에 v1리스트의 i번째 항목을 추가\n",
    "            else: # i가 v1보다 크다면\n",
    "                pass # 패스\n",
    "            if i < len(v2): # i의 크기보다 v2의 길이가 길다면\n",
    "                vlist.append(v2[i]) # vlist에 v2리스트의 i번째 항목을 추가\n",
    "            else: # 아닌경우\n",
    "                pass # 패스\n",
    "        return vlist # vlist값 반환\n",
    "            \n",
    "v1 = list(map(int, input('v1 : ').split(','))) # v1 리스트 ,로 구분하여 입력받기\n",
    "v2 = list(map(int, input('v2 : ').split(','))) # v2 리스트 ,로 구분하여 입력받기\n",
    "\n",
    "zig.zigzag(v1, v2) #출력"
   ]
  },
  {
   "cell_type": "code",
   "execution_count": 34,
   "metadata": {},
   "outputs": [
    {
     "name": "stdout",
     "output_type": "stream",
     "text": [
      "v1 : 1\n",
      "v2 : \n"
     ]
    },
    {
     "data": {
      "text/plain": [
       "[1]"
      ]
     },
     "execution_count": 34,
     "metadata": {},
     "output_type": "execute_result"
    }
   ],
   "source": [
    "v1 = list(map(int, input('v1 : ').split()))\n",
    "v2 = list(map(int, input('v2 : ').split())) \n",
    "\n",
    "zig.zigzag(v1, v2)"
   ]
  },
  {
   "cell_type": "code",
   "execution_count": 35,
   "metadata": {
    "scrolled": true
   },
   "outputs": [
    {
     "name": "stdout",
     "output_type": "stream",
     "text": [
      "v1 : \n",
      "v2 : 1\n"
     ]
    },
    {
     "data": {
      "text/plain": [
       "[1]"
      ]
     },
     "execution_count": 35,
     "metadata": {},
     "output_type": "execute_result"
    }
   ],
   "source": [
    "v1 = list(map(int, input('v1 : ').split()))\n",
    "v2 = list(map(int, input('v2 : ').split())) \n",
    "\n",
    "zig.zigzag(v1, v2)"
   ]
  }
 ],
 "metadata": {
  "kernelspec": {
   "display_name": "Python 3",
   "language": "python",
   "name": "python3"
  },
  "language_info": {
   "codemirror_mode": {
    "name": "ipython",
    "version": 3
   },
   "file_extension": ".py",
   "mimetype": "text/x-python",
   "name": "python",
   "nbconvert_exporter": "python",
   "pygments_lexer": "ipython3",
   "version": "3.8.5"
  }
 },
 "nbformat": 4,
 "nbformat_minor": 4
}
