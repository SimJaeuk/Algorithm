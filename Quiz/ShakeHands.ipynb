{
 "cells": [
  {
   "cell_type": "code",
   "execution_count": null,
   "id": "sublime-denial",
   "metadata": {},
   "outputs": [],
   "source": [
    "광장에서 모인 사람들과 악수를 하는 행사가 열렸다.\n",
    "\n",
    "- 악수는 모두 1대 1로 진행이 된다.\n",
    "- 민규를 제외한 모든 참가자는 자신을 제외한 참가자와 모두 한번씩 악수를 한다.\n",
    "- 같은 상대와 중복된 악수는 카운트 하지 않는다.\n",
    "- 민규를 제외한 참가자는 행사를 모두 마쳤다."
   ]
  },
  {
   "cell_type": "code",
   "execution_count": 3,
   "id": "needed-reader",
   "metadata": {},
   "outputs": [
    {
     "name": "stdout",
     "output_type": "stream",
     "text": [
      "[4, 12]\n"
     ]
    }
   ],
   "source": [
    "def ShakeHands(n):                         #함수 생성\n",
    "    people = 0                             #사람 수 담을 변수\n",
    "    total = 0                              #악수 횟수 담을 변수\n",
    "    while(True):                          #반복\n",
    "        total = people*(people-1) // 2    #악수 횟수는 사람 수 * 사람수 -1 나누기 2\n",
    "        if n < total:                      # 입력값보다 total이 크면\n",
    "            break                          #탈출\n",
    "        people+=1                           # 사람수는 사람수 +1\n",
    "    mingyu = people-(total-n)-1              # 민규가 악수한 수는 사람 수 - (토탈-입력값) - 1\n",
    "    return [mingyu,people]                   # 값 반환\n",
    "\n",
    "print(ShakeHands(59))                           "
   ]
  }
 ],
 "metadata": {
  "kernelspec": {
   "display_name": "Python 3",
   "language": "python",
   "name": "python3"
  },
  "language_info": {
   "codemirror_mode": {
    "name": "ipython",
    "version": 3
   },
   "file_extension": ".py",
   "mimetype": "text/x-python",
   "name": "python",
   "nbconvert_exporter": "python",
   "pygments_lexer": "ipython3",
   "version": "3.8.8"
  }
 },
 "nbformat": 4,
 "nbformat_minor": 5
}
