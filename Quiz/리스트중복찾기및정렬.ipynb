{
 "cells": [
  {
   "cell_type": "code",
   "execution_count": null,
   "metadata": {},
   "outputs": [],
   "source": [
    "주어진 문자열(공백 없이 쉼표로 구분되어 있음)을 가지고 아래\n",
    "문제에 대한 프로그램을 작성하세요.\n",
    "이유덕,이재영,권종표,이재영,박민호,강상희,이재영,김지완,최승혁,\n",
    "이성연,박영서,박민호,전경헌,송정환,김재성,이유덕,전경헌\n",
    "① 김씨와 이씨는 각각 몇 명 인가요?\n",
    "② \"이재영\"이란 이름이 몇 번 반복되나요?\n",
    "③ 중복을 제거한 이름을 출력하세요.\n",
    "④ 중복을 제거한 이름을 오름차순으로 정렬하여 출력하세요."
   ]
  },
  {
   "cell_type": "code",
   "execution_count": 21,
   "metadata": {},
   "outputs": [
    {
     "name": "stdout",
     "output_type": "stream",
     "text": [
      "1. 김씨: 2명, 이씨: 6명\n",
      "2. 3번\n",
      "3. 김재성 이성연 박영서 박민호 이유덕 권종표 김지완 최승혁 송정환 강상희 전경헌 이재영 \n",
      "4. 강상희 권종표 김재성 김지완 박민호 박영서 송정환 이성연 이유덕 이재영 전경헌 최승혁 "
     ]
    }
   ],
   "source": [
    "names = \"이유덕,이재영,권종표,이재영,박민호,강상희,이재영,김지완,최승혁,이성연,박영서,박민호,전경헌,송정환,김재성,이유덕,전경헌\"\n",
    "\n",
    "#리스트로 변환\n",
    "list_names = names.split(',')\n",
    "\n",
    "cnt_k=0  #김씨를 담을 변수\n",
    "cnt_l=0  #이씨를 담을 변수\n",
    "cnt_j=0  #이재영씨를 담을 변수\n",
    "\n",
    "\n",
    "for name in list_names: \n",
    "    if name[0] == '김': #네임 리스트의 첫번째 글자가 김이면\n",
    "        cnt_k += 1      # cnt_k에 +1\n",
    "    if name[0] == '이': #네임 리스트의 첫번쨰 글자가 이면\n",
    "        cnt_l += 1      # cnt_l에 +1\n",
    "    if name == '이재영':#네임 리스트에 이재영이 있으면\n",
    "        cnt_j += 1      # cnt_j에 +1\n",
    "\n",
    "print(\"1. 김씨: \"+ str(cnt_k)+\"명, 이씨: \"+ str(cnt_l)+\"명\") #카운트된 변수 문자열로 변환 후 출력\n",
    "print(\"2. \"+ str(cnt_j) + \"번\") #카운트된 변수 문자열로 변환 후 출력\n",
    "\n",
    "#집합으로 변환하여 중복 제거\n",
    "set_names = set(list_names)\n",
    "\n",
    "#중복제거 출력\n",
    "print('3.',end=' ') #번호 붙이기\n",
    "for name in set_names: #중복 제거된 명단 포문반복\n",
    "    print(name,end=' ') #붙여서 출력하기\n",
    "\n",
    "#오름차순 정렬 출력\n",
    "print('\\n4.',end=' ') #줄바꾼후 출력\n",
    "for name in sorted(set_names): #중복 제거된 명단 정렬\n",
    "    print(name,end=' ') #붙여서 출력하기"
   ]
  },
  {
   "cell_type": "code",
   "execution_count": null,
   "metadata": {},
   "outputs": [],
   "source": []
  },
  {
   "cell_type": "code",
   "execution_count": null,
   "metadata": {},
   "outputs": [],
   "source": []
  }
 ],
 "metadata": {
  "kernelspec": {
   "display_name": "Python 3",
   "language": "python",
   "name": "python3"
  },
  "language_info": {
   "codemirror_mode": {
    "name": "ipython",
    "version": 3
   },
   "file_extension": ".py",
   "mimetype": "text/x-python",
   "name": "python",
   "nbconvert_exporter": "python",
   "pygments_lexer": "ipython3",
   "version": "3.8.8"
  }
 },
 "nbformat": 4,
 "nbformat_minor": 4
}
