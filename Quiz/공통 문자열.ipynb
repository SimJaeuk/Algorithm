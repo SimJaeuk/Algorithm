{
 "cells": [
  {
   "cell_type": "code",
   "execution_count": null,
   "metadata": {},
   "outputs": [],
   "source": [
    "A,B 두 문자열이 주어졌을 때 두 열에 공통으로 들어 있는 요소로 만들 수 있는 가장 긴 부분열 찾기\n",
    "부분열 -> 다른 문자열에서 몇몇의 문자가 빠져 있어도 순서가 바뀌지 않는 열\n",
    "\n",
    "ex) \n",
    "S1 = ['T', 'H', 'E', 'S', 'T', 'R', 'I', 'N', 'G', 'S']\n",
    "S2 = ['T', 'H', 'I', 'S', 'I', 'S']\n",
    "공통 문자열 = ['T','H','S','T','I','S']\n",
    "\n",
    "두 개의 문자열이 한 줄에 하나씩 주어짐\n",
    "문자열은 알파벳 대문자로만 구성되며 그 길이는 100글자가 넘지 않음"
   ]
  },
  {
   "cell_type": "code",
   "execution_count": 4,
   "metadata": {},
   "outputs": [
    {
     "name": "stdout",
     "output_type": "stream",
     "text": [
      "THISISSTRINGS\n",
      "THISIS\n",
      "6\n"
     ]
    }
   ],
   "source": [
    "a = input()\n",
    "b = input()\n",
    "\n",
    "dp = [[0 for i in range(len(a) + 1)] for j in range(len(b) + 1)]\n",
    "\n",
    "for i in range(1, len(b) + 1):\n",
    "    for j in range(1, len(a) + 1):\n",
    "        if a[j - 1] == b[i - 1]:\n",
    "            dp[i][j] = dp[i - 1][j - 1] + 1\n",
    "        else:\n",
    "            dp[i][j] = max(dp[i - 1][j], dp[i][j - 1])\n",
    "\n",
    "print(dp[-1][-1])"
   ]
  }
 ],
 "metadata": {
  "kernelspec": {
   "display_name": "Python 3",
   "language": "python",
   "name": "python3"
  },
  "language_info": {
   "codemirror_mode": {
    "name": "ipython",
    "version": 3
   },
   "file_extension": ".py",
   "mimetype": "text/x-python",
   "name": "python",
   "nbconvert_exporter": "python",
   "pygments_lexer": "ipython3",
   "version": "3.8.5"
  }
 },
 "nbformat": 4,
 "nbformat_minor": 4
}
