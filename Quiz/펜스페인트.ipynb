{
 "cells": [
  {
   "cell_type": "code",
   "execution_count": 5,
   "metadata": {},
   "outputs": [
    {
     "name": "stdout",
     "output_type": "stream",
     "text": [
      "6\n",
      "1\n",
      "42\n"
     ]
    }
   ],
   "source": [
    "class Solution(object):                               \n",
    "    def numWays(self, n, k):                          \n",
    "        if n == 0 or k == 0:                       \n",
    "            return 0                               \n",
    "        \n",
    "        mem = [0] * (n + 1)                          \n",
    "        mem[0] = k\n",
    "        mem[1] = k * k\n",
    "        for i in range(2, n):\n",
    "            mem[i] = (k-1) * (mem[i-1] + mem[i-2])\n",
    "            \n",
    "        return mem[n-1]\n",
    "    \n",
    "        if n == 0:\n",
    "            return 0\n",
    "        if n == 1:\n",
    "            return k\n",
    "        \n",
    "        same, dif = k, k*(k-1) \n",
    "        \n",
    "        for i in range(3, n+1):\n",
    "            same, dif = dif, (same+dif)*(k-1)\n",
    "        return same + dif\n",
    "    \n",
    "solution = Solution()\n",
    "print(solution.numWays(3, 2))\n",
    "print(solution.numWays(1, 1))\n",
    "print(solution.numWays(7, 2))"
   ]
  },
  {
   "cell_type": "code",
   "execution_count": 3,
   "metadata": {},
   "outputs": [
    {
     "name": "stdout",
     "output_type": "stream",
     "text": [
      "6\n",
      "1\n",
      "42\n"
     ]
    }
   ],
   "source": [
    "                                                               # n = 피켓의 수 k = 컬러의 수\n",
    "class Solution:                                               # 클래스 선언\n",
    "    def numWays(self, n, k):                                  # 함수 선언\n",
    "        \n",
    "        if n == 0 or k == 0:                                  # 피켓이나 컬러가 없는경우\n",
    "            return 0                                          # 칠할 수 없음\n",
    "        elif n == 1:                                          # 피켓이 하나인 경우\n",
    "            return k                                          # 컬러의 수만큼 칠할 수 있음\n",
    "        \n",
    "        same = k                                               #같은색으로 칠하는 경우  = 컬러의 수\n",
    "        different = k * (k - 1)                                #다른 색으로 칠하는 경우 = 컬러의 수 * (컬러의 수 - 1)\n",
    "        \n",
    "        if n == 2:                                            #피켓이 두개라면\n",
    "            return same + different                           #두 경우를 더한 값을 반환\n",
    "        \n",
    "        prev_same, prev_different = same, different             #prev_same은 same, prev_different는 different\n",
    "        \n",
    "        for post in range(3, n +1):                              #3부터 피켓의 수만큼 반복\n",
    "            same = prev_different                                 #same은 prev_different와 같은값\n",
    "            different = (prev_same + prev_different) * (k - 1)    #different는 (prev_same + prev_different) * (컬러의 수 -1)\n",
    "            \n",
    "            prev_same, prev_different = same, different          #prev_same은 same, prev_different는 different\n",
    "            \n",
    "        return same + different                                 #두 경우를 더한 값을 반환\n",
    "\n",
    "                               \n",
    "print(Solution().numWays(3, 2))                                     #결과 출력\n",
    "print(Solution().numWays(1, 1))                                     #결과 출력\n",
    "print(Solution().numWays(7, 2))                                     #결과 출력"
   ]
  },
  {
   "cell_type": "code",
   "execution_count": null,
   "metadata": {},
   "outputs": [],
   "source": []
  }
 ],
 "metadata": {
  "kernelspec": {
   "display_name": "Python 3",
   "language": "python",
   "name": "python3"
  },
  "language_info": {
   "codemirror_mode": {
    "name": "ipython",
    "version": 3
   },
   "file_extension": ".py",
   "mimetype": "text/x-python",
   "name": "python",
   "nbconvert_exporter": "python",
   "pygments_lexer": "ipython3",
   "version": "3.8.5"
  }
 },
 "nbformat": 4,
 "nbformat_minor": 4
}
