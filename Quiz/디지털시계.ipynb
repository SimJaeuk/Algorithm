{
 "cells": [
  {
   "cell_type": "code",
   "execution_count": null,
   "id": "built-german",
   "metadata": {},
   "outputs": [],
   "source": [
    "디지털 시계에 하루동안(00:00~23:59) 3이 표시되는 시간을 초로 환산하면 \n",
    "총 몇 초(second) 일까요?\n",
    "디지털 시계는 하루동안 다음과 같이 시:분(00:00~23:59)으로 표시됩니다.\n",
    "    \n",
    "00:00 (60초간 표시됨)\n",
    "00:01\n",
    "00:02\n",
    "...\n",
    "23:59"
   ]
  },
  {
   "cell_type": "code",
   "execution_count": 13,
   "id": "exotic-disclaimer",
   "metadata": {},
   "outputs": [
    {
     "name": "stdout",
     "output_type": "stream",
     "text": [
      "29700 초\n"
     ]
    }
   ],
   "source": [
    "SumSec = 0                                            # 총합을 저장할 변수\n",
    "for hour in range(24):                               # 시간 포문으로 반복\n",
    "    for minute in range(60):                         # 분 포문으로 반복\n",
    "        if '3' in str(hour) or '3' in str(minute):  # 시간이나 분에 3이 들어가면\n",
    "            SumSec += 60                             # 60초씩 더함\n",
    "print(SumSec,'초')                                   # 출력하기"
   ]
  },
  {
   "cell_type": "code",
   "execution_count": null,
   "id": "global-climate",
   "metadata": {},
   "outputs": [],
   "source": []
  },
  {
   "cell_type": "code",
   "execution_count": null,
   "id": "fourth-james",
   "metadata": {},
   "outputs": [],
   "source": []
  },
  {
   "cell_type": "code",
   "execution_count": null,
   "id": "white-princeton",
   "metadata": {},
   "outputs": [],
   "source": []
  },
  {
   "cell_type": "code",
   "execution_count": null,
   "id": "legitimate-edward",
   "metadata": {},
   "outputs": [],
   "source": []
  }
 ],
 "metadata": {
  "kernelspec": {
   "display_name": "Python 3",
   "language": "python",
   "name": "python3"
  },
  "language_info": {
   "codemirror_mode": {
    "name": "ipython",
    "version": 3
   },
   "file_extension": ".py",
   "mimetype": "text/x-python",
   "name": "python",
   "nbconvert_exporter": "python",
   "pygments_lexer": "ipython3",
   "version": "3.8.8"
  }
 },
 "nbformat": 4,
 "nbformat_minor": 5
}
