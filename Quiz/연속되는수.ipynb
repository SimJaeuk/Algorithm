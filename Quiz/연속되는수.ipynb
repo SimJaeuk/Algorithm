{
 "cells": [
  {
   "cell_type": "code",
   "execution_count": null,
   "metadata": {},
   "outputs": [],
   "source": [
    "은주가 일하는 놀이공원에서는 현재 놀이공원 곳곳에 숨겨진 숫자 스탬프를 모아 오면 선물을 주는 이벤트를 하고 있습니다. \n",
    "숫자 스탬프는 매일 그 수와 스탬프에 적힌 숫자가 바뀌지만 그 숫자는 항상 연속됩니다. \n",
    "스탬프에 적힌 숫자가 공백으로 구분되어 주어지면 이 숫자가 연속수인지 아닌지 \"YES\"와 \"NO\"로 판별하는 프로그램을 작성하세요."
   ]
  },
  {
   "cell_type": "code",
   "execution_count": 40,
   "metadata": {},
   "outputs": [
    {
     "name": "stdout",
     "output_type": "stream",
     "text": [
      "1 2 3 4 5\n",
      "YES\n"
     ]
    }
   ],
   "source": [
    "#입력받은 뒤 빈칸으로 구분하여 하나씩 정수만들기\n",
    "user_input = map(int, input().split()) \n",
    "\n",
    "\n",
    "def stamp(n):                       #함수 생성\n",
    "    n = sorted(n)                 #입력값 정렬\n",
    "    for i in range(len(n) - 1):  #입력된 리스트길이의 -1만큼 반복\n",
    "        if n[i]+1 != n[i+1]:     # n의 인덱스 i번째 값 +1이 그다음 인덱스값과 같지않으면\n",
    "            return 'NO'          # NO  반환\n",
    "    return 'YES'                 # YES 반환\n",
    "\n",
    "print(stamp(user_input))          # 출력"
   ]
  }
 ],
 "metadata": {
  "kernelspec": {
   "display_name": "Python 3",
   "language": "python",
   "name": "python3"
  },
  "language_info": {
   "codemirror_mode": {
    "name": "ipython",
    "version": 3
   },
   "file_extension": ".py",
   "mimetype": "text/x-python",
   "name": "python",
   "nbconvert_exporter": "python",
   "pygments_lexer": "ipython3",
   "version": "3.8.5"
  }
 },
 "nbformat": 4,
 "nbformat_minor": 4
}
