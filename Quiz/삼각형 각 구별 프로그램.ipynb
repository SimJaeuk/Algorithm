{
 "cells": [
  {
   "cell_type": "code",
   "execution_count": null,
   "id": "alternative-chair",
   "metadata": {},
   "outputs": [],
   "source": [
    "ALGORITHM HOMEWORK\n",
    "3개의 각으로 삼각형의 예각   직각   둔각을 구별하는 프로그램을 만드세요\n",
    "[60, 60, 60] = 예각삼각형 \n",
    "[30, 60, 90] = 직각삼각형 \n",
    "[20, 40, 120] = 둔각삼각형 \n",
    "[0, 90, 90] = 삼각형이 아니다 \n",
    "[60, 70, 80] = 삼각형이 아니다 \n",
    "[40, 40, 50, 50] = 삼각형이 아니다\n",
    "\n",
    "예각삼각형 : 3개의 각이 모두 예각인 삼각형 \n",
    "직각삼각형 : 1개의 각이 직각인 삼각형 \n",
    "둔각삼각형 : 1개의 각이 둔각인 삼각형 \n",
    "① 각이 3개가 아닐 경우 삼각형이 아니다. \n",
    "② 3개의 각의 합이 180°가 아닐 경우 삼각형이 아니다."
   ]
  },
  {
   "cell_type": "code",
   "execution_count": 20,
   "id": "partial-aggregate",
   "metadata": {},
   "outputs": [
    {
     "name": "stdout",
     "output_type": "stream",
     "text": [
      "제1각을 입력하세요8\n",
      "제2각을 입력하세요9\n",
      "제3각을 입력하세요4\n",
      "삼각형이 아닙니다.\n",
      "\n"
     ]
    }
   ],
   "source": [
    "def protra (x,y,z): #각도기 함수 생성\n",
    "    if x + y + z != 180 or x==0 or y==0 or z==0: # 만약 x+y+z가 180이 안되거나 x,y,z중 0이 있다면\n",
    "        print('삼각형이 아닙니다.') #해당문구 출력\n",
    "    else: #아닌경우\n",
    "        if max(x,y,z) == 90: #만약 x,y,z중 90이 있다면\n",
    "            print('직각 삼각형입니다.') #해당문구 출력\n",
    "        elif max(x,y,z) > 90: #아니면 x,y,z중 90보다 큰 값이 있다면\n",
    "            print('둔각 삼각형입니다.') #해당문구 출력\n",
    "        else: #아닌경우\n",
    "            print('예각 삼각형입니다.') #해당문구 출력\n",
    "    return '' #None 방지\n",
    "    \n",
    "    \n",
    "x = int(input('제1각을 입력하세요')) #1각 입력받기\n",
    "y = int(input('제2각을 입력하세요')) #2각 입력받기\n",
    "z = int(input('제3각을 입력하세요')) #3각 입력받기\n",
    "\n",
    "print(protra(x,y,z)) #함수 출력"
   ]
  },
  {
   "cell_type": "code",
   "execution_count": null,
   "id": "parental-argentina",
   "metadata": {},
   "outputs": [],
   "source": []
  }
 ],
 "metadata": {
  "kernelspec": {
   "display_name": "Python 3",
   "language": "python",
   "name": "python3"
  },
  "language_info": {
   "codemirror_mode": {
    "name": "ipython",
    "version": 3
   },
   "file_extension": ".py",
   "mimetype": "text/x-python",
   "name": "python",
   "nbconvert_exporter": "python",
   "pygments_lexer": "ipython3",
   "version": "3.8.8"
  }
 },
 "nbformat": 4,
 "nbformat_minor": 5
}
