{
 "cells": [
  {
   "cell_type": "code",
   "execution_count": 8,
   "metadata": {},
   "outputs": [
    {
     "name": "stdout",
     "output_type": "stream",
     "text": [
      "cnt :  5\n"
     ]
    }
   ],
   "source": [
    "각 초밥에 점수를 매기고 낮은 점수의 순서로 초밥을 먹으려 합니다.\n",
    "이때 n위치에 높여진 초밥을 접시가 몇 번 지나가고 나서 먹을지 출력하세요.\n",
    "\n",
    "1. 초밥은 놓여진 위치에서 옮겨지지 않음\n",
    "2. 지나간 초밥은 나머지 초밥이 지나간 후에 다시 돌아옴\n",
    "3. 초밥은 1개 이상 존재"
   ]
  },
  {
   "cell_type": "code",
   "execution_count": 9,
   "metadata": {},
   "outputs": [
    {
     "name": "stdout",
     "output_type": "stream",
     "text": [
      "cnt :  5\n"
     ]
    }
   ],
   "source": [
    "def solution(point,dish) :\n",
    "    dish-=1\n",
    "    cnt = 0\n",
    "    pointSort = sorted(point)\n",
    "\n",
    "    while True :\n",
    "        firstDish = point.pop(0)\n",
    "        if pointSort[0] == firstDish :\n",
    "            if dish == 0 :\n",
    "                break\n",
    "            dish-=1\n",
    "            pointSort.pop(0)\n",
    "        else :\n",
    "            point.append(firstDish)\n",
    "            dish = len(point)-1 if dish == 0 else dish - 1\n",
    "        cnt+=1\n",
    "    return cnt\n",
    "\n",
    "print(\"cnt : \",solution([1,1,3,2,5],3))"
   ]
  }
 ],
 "metadata": {
  "kernelspec": {
   "display_name": "Python 3",
   "language": "python",
   "name": "python3"
  },
  "language_info": {
   "codemirror_mode": {
    "name": "ipython",
    "version": 3
   },
   "file_extension": ".py",
   "mimetype": "text/x-python",
   "name": "python",
   "nbconvert_exporter": "python",
   "pygments_lexer": "ipython3",
   "version": "3.8.5"
  }
 },
 "nbformat": 4,
 "nbformat_minor": 4
}
