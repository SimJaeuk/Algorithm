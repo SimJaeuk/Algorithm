{
 "cells": [
  {
   "cell_type": "code",
   "execution_count": null,
   "metadata": {},
   "outputs": [],
   "source": [
    "다음의 딕셔너리가 주어졌을 때 한국의 면적과 가장 비슷한 국가와 그 차이를 출력하세요."
   ]
  },
  {
   "cell_type": "code",
   "execution_count": 50,
   "metadata": {},
   "outputs": [
    {
     "name": "stdout",
     "output_type": "stream",
     "text": [
      "England 22023\n"
     ]
    }
   ],
   "source": [
    "nationWidth = {\n",
    "    'korea' : 220877,\n",
    "    'Rusia': 17098242,\n",
    "    'China': 9596961,\n",
    "    'England' : 242900,\n",
    "    'Japan': 377915,\n",
    "    'France' : 543965,\n",
    "    }\n",
    "\n",
    "Korea = nationWidth['korea']             #Korea 변수에 한국면적 바인딩\n",
    "nationWidth.pop('korea')                 #딕셔너리에서 코리아 제거\n",
    "countries = list(nationWidth.items())    #나머지 나라들 튜플로 묶어서 리스트화\n",
    "similar = max(nationWidth.values())      #similar 변수에 가장 큰 면적의 나라 바인딩\n",
    "\n",
    "for country in countries:                     #리스트 내에서 반복\n",
    "    if similar > abs(country[1] - Korea):     #similar가 해당 반복회차 나라의 면적 - 한국면적보다 크면\n",
    "        similar = abs(country[1] - Korea)      #similar에 해당 값 바인딩\n",
    "        result = country                       #result 변수에 답 바인딩\n",
    "        \n",
    "print(result[0], result[1] -220877)            #해당국가 및 한국 면적-해당국가 면적한 값 출력"
   ]
  }
 ],
 "metadata": {
  "kernelspec": {
   "display_name": "Python 3",
   "language": "python",
   "name": "python3"
  },
  "language_info": {
   "codemirror_mode": {
    "name": "ipython",
    "version": 3
   },
   "file_extension": ".py",
   "mimetype": "text/x-python",
   "name": "python",
   "nbconvert_exporter": "python",
   "pygments_lexer": "ipython3",
   "version": "3.8.5"
  }
 },
 "nbformat": 4,
 "nbformat_minor": 4
}
