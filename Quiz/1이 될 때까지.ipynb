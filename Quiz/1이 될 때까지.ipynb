{
 "cells": [
  {
   "cell_type": "code",
   "execution_count": 10,
   "metadata": {},
   "outputs": [
    {
     "name": "stdout",
     "output_type": "stream",
     "text": [
      "17 4\n",
      "3\n"
     ]
    }
   ],
   "source": [
    "QUESTION\n",
    "어떠한 수 N이 1이 될 때까지 다음의 두 과정 중 하나를 반복적으로 선택하여 수행하려고 한다.\n",
    "단, 두 번째 연산은 N이 K로 나누어떨어질 때만 선택할 수 있다.\n",
    "1.N에서 1을 뺀다.\n",
    "2.N을 K로 나눈다.\n",
    "예를 들어 N이 17, K가 4라고 가정하자. 이때 1번의 과정을 한번 수행하면 N은 16이 된다.\n",
    "이후에 2번의 과정을 두 번 수행하면 N은 1이 된다.\n",
    "결과적으로 이 경우 전체 과정을 실행한 횟수는 3이 된다.\n",
    "이는 N을 1로 만드는 최소 횟수이다.\n",
    "N과 K가 주어질 때 N이 1이 될 때까지 1번 혹은 2번의 과정을 수행해야 하는 최소 횟수를 구하는 프로그램을 작성하시오."
   ]
  },
  {
   "cell_type": "code",
   "execution_count": 65,
   "metadata": {},
   "outputs": [
    {
     "name": "stdout",
     "output_type": "stream",
     "text": [
      "17 4\n",
      "3\n"
     ]
    }
   ],
   "source": [
    "n, k = map(int, input().split()) # N, K 값 입력받기\n",
    "count = 0                        # 횟수 담을 변수 생성\n",
    "\n",
    "while n >= k:                   # N이 K와 같거나 큰동안 반복\n",
    "    while n % k != 0:           # N 나누기 K의 나머지가 0이 아닐때까지 반복\n",
    "        n -= 1                   # N = N - 1\n",
    "        count += 1               # 카운트 증가\n",
    "    n //= k                      # N = N // K\n",
    "    count += 1                   # 카운트 증가\n",
    "    \n",
    "while n > 1:                     # N이 1보다 크면\n",
    "    n -= 1                        # N = N - 1\n",
    "    count += 1                    # 카운트 증가\n",
    "    \n",
    "print(count)                      #결과 출력 "
   ]
  }
 ],
 "metadata": {
  "kernelspec": {
   "display_name": "Python 3",
   "language": "python",
   "name": "python3"
  },
  "language_info": {
   "codemirror_mode": {
    "name": "ipython",
    "version": 3
   },
   "file_extension": ".py",
   "mimetype": "text/x-python",
   "name": "python",
   "nbconvert_exporter": "python",
   "pygments_lexer": "ipython3",
   "version": "3.8.5"
  }
 },
 "nbformat": 4,
 "nbformat_minor": 4
}
