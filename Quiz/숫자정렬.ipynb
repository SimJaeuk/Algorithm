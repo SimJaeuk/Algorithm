{
 "cells": [
  {
   "cell_type": "code",
   "execution_count": 2,
   "metadata": {},
   "outputs": [
    {
     "name": "stdout",
     "output_type": "stream",
     "text": [
      "3\n",
      "15\n",
      "27\n",
      "12\n",
      "27 15 12 "
     ]
    }
   ],
   "source": [
    "# 입력받을 숫자 N 입력받기\n",
    "n = int(input())\n",
    "\n",
    "# 입력 받은 정수 담을 빈 리스트 생성\n",
    "array = []\n",
    "\n",
    "# 입력받은 숫자 n의 길이만큼 반복하여 리스트에 담기\n",
    "for i in range(n):\n",
    "    array.append(int(input()))\n",
    "\n",
    "# 내장 정렬 라이브러리를 이용하여 내림차순 정렬\n",
    "array = sorted(array, reverse=True)\n",
    "\n",
    "# 결과 붙여서 출력\n",
    "for i in array:\n",
    "    print(i, end=' ')"
   ]
  }
 ],
 "metadata": {
  "kernelspec": {
   "display_name": "Python 3",
   "language": "python",
   "name": "python3"
  },
  "language_info": {
   "codemirror_mode": {
    "name": "ipython",
    "version": 3
   },
   "file_extension": ".py",
   "mimetype": "text/x-python",
   "name": "python",
   "nbconvert_exporter": "python",
   "pygments_lexer": "ipython3",
   "version": "3.8.5"
  }
 },
 "nbformat": 4,
 "nbformat_minor": 4
}
