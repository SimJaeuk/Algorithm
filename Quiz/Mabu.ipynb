{
 "cells": [
  {
   "cell_type": "code",
   "execution_count": null,
   "id": "initial-laser",
   "metadata": {},
   "outputs": [],
   "source": [
    "우리 학교에는 복도 불을 켜고 끄는 마부(Mabu)라는 사람이 있다. 전구마다 불을 켜고 끄는 스위치가 있다. \n",
    "불이 꺼져 있을 때 스위치를 누르면 불이 켜지고 다시 스위치를 누르면 불이 꺼진다. 처음에는 모든 전구가\n",
    "꺼져 있다. 마부라는 사람은 특이한 행동을 한다. 복도에 n개의 전구가 있으면, 복도를 n번 왕복한다. i번째\n",
    "갈 때 그는 i로 나누어 떨어지는 위치에 있는 스위치만 누른다. 처음 위치로 돌아올 때는 아무 스위치도\n",
    "건드리지 않는다. i번째 왕복은 (이런 이상한 행동을 하면서) 복도를 한 번 갔다가 오는 것으로 정의된다. \n",
    "마지막 전구의 최종 상태를 알아내자. 과연 그 전구는 켜져 있을까 아니면 꺼져 있을까?"
   ]
  },
  {
   "cell_type": "code",
   "execution_count": 90,
   "id": "defined-composite",
   "metadata": {},
   "outputs": [
    {
     "name": "stdout",
     "output_type": "stream",
     "text": [
      "No\n",
      "Yes\n",
      "No\n"
     ]
    }
   ],
   "source": [
    "import math                      #모듈 임포트\n",
    "\n",
    "def mabu(n):                     #함수 생성\n",
    "    if n == 0:                   #입력값이 0이면\n",
    "        pass                     #통과\n",
    "    elif math.sqrt(n) % 1 == 0: #입력값을 제곱근으로 나눴을 때 나머지가 0이면\n",
    "        print(\"Yes\")             #\"Yes\" 출력\n",
    "    else:                       #0이 아닌경우\n",
    "        print(\"No\")              #\"No\" 출력\n",
    "\n",
    "#정답확인\n",
    "mabu(3)\n",
    "mabu(6241)\n",
    "mabu(8191)\n",
    "mabu(0)"
   ]
  },
  {
   "cell_type": "code",
   "execution_count": 65,
   "id": "looking-perspective",
   "metadata": {},
   "outputs": [],
   "source": [
    "def mabu(n):                                     #함수 생성\n",
    "    lights = [False] * n                        #\n",
    "    for i in range(1, n+1):                     # 입력값만큼 포문 실행\n",
    "        for j in range(1, n+1):                 # 입력값만큼 포문 실행2\n",
    "            if j % i == 0:                      # 만약 j 나누기 i의 나머지가 0이면\n",
    "                lights[j-1] = not lights[j-1]   # lights\n",
    "    return lights[-1] and \"Yes\" or \"No\""
   ]
  }
 ],
 "metadata": {
  "kernelspec": {
   "display_name": "Python 3",
   "language": "python",
   "name": "python3"
  },
  "language_info": {
   "codemirror_mode": {
    "name": "ipython",
    "version": 3
   },
   "file_extension": ".py",
   "mimetype": "text/x-python",
   "name": "python",
   "nbconvert_exporter": "python",
   "pygments_lexer": "ipython3",
   "version": "3.8.8"
  }
 },
 "nbformat": 4,
 "nbformat_minor": 5
}
