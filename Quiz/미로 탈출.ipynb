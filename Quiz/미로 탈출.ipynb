{
 "cells": [
  {
   "cell_type": "markdown",
   "metadata": {},
   "source": [
    "### N x M 크기의 직사각형 형태의 미로에 여러 마리의 괴물이 있어 이를 피해 탈출해야 한다. \n",
    "### 현재 위치는 (1, 1)이고 미로의 출구는 (N,M)의 위치에 존재하며 한 번에 한 칸씩 이동할 수 있다. \n",
    "### 괴물이 있는 부분은 0으로, 괴물이 없는 부분은 1로 표시되어 있다. 미로는 반드시 탈출할 수 있는 형태로 제시된다. \n",
    "### 탈출하기 위해 움직여야 하는 최소 칸의 개수를 구하라. 칸을 셀 때는 시작 칸과 마지막 칸을 모두 포함해서 계산한다."
   ]
  },
  {
   "cell_type": "code",
   "execution_count": 8,
   "metadata": {},
   "outputs": [
    {
     "name": "stdout",
     "output_type": "stream",
     "text": [
      "5 6\n",
      "101010\n",
      "111111\n",
      "000001\n",
      "111111\n",
      "111111\n",
      "10\n"
     ]
    }
   ],
   "source": [
    "from collections import deque\n",
    "\n",
    "n, m = map(int, input().split() )\n",
    "graph = []\n",
    "for i in range(n):\n",
    "    graph.append(list(map(int, input())))\n",
    "\n",
    "dx = [-1, 1, 0, 0]\n",
    "dy = [0, 0, -1, 1]\n",
    "\n",
    "def bfs(x, y):    \n",
    "    queue = deque()\n",
    "    queue.append((x, y))\n",
    "    while queue:\n",
    "        x, y = queue.popleft()       \n",
    "        for i in range(4):\n",
    "            nx = x + dx[i]\n",
    "            ny = y + dy[i]\n",
    "            if nx < 0 or nx >= n or ny < 0 or ny >= m:\n",
    "                continue\n",
    "            if graph[nx][ny] == 0:\n",
    "                continue\n",
    "            if graph[nx][ny] == 1:\n",
    "                graph[nx][ny] = graph[x][y] + 1\n",
    "                queue.append((nx, ny))\n",
    "    return graph[n - 1][m - 1]\n",
    "print(bfs(0, 0))"
   ]
  }
 ],
 "metadata": {
  "kernelspec": {
   "display_name": "Python 3",
   "language": "python",
   "name": "python3"
  },
  "language_info": {
   "codemirror_mode": {
    "name": "ipython",
    "version": 3
   },
   "file_extension": ".py",
   "mimetype": "text/x-python",
   "name": "python",
   "nbconvert_exporter": "python",
   "pygments_lexer": "ipython3",
   "version": "3.8.5"
  }
 },
 "nbformat": 4,
 "nbformat_minor": 4
}
