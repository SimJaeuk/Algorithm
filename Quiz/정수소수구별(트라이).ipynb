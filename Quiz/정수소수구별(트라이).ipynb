{
 "cells": [
  {
   "cell_type": "code",
   "execution_count": null,
   "id": "aboriginal-march",
   "metadata": {},
   "outputs": [],
   "source": [
    "프로그래머 X는 코딩을 하다가 문득, 수학 시간에 배운 정수와 소수를\n",
    "구별하는 방법을 떠올렸다. 정수와 소수의 차이는 분수로 표현이 되느냐, \n",
    "되지 않느냐에 따라 차이가 나기도 하며, 또한 파이 등 특정한 값을\n",
    "나타내는 것에 의하여 소수인지 정수인지 판별이 나게 된다.\n",
    "프로그래머 X는 입력값을 숫자를 입력하거나 문자를 입력하려고 하는데,\n",
    "만약 숫자를 입력하였으면 그것이 정수인지, 소수인지 구별하는\n",
    "프로그램을 짜보도록 하고,\n",
    "만약 문자를 입력하였으면 숫자가 아니므로 math error를 표시하게 하라. \n",
    "( try, except 를 사용, eval 함수 참고 )"
   ]
  },
  {
   "cell_type": "code",
   "execution_count": 70,
   "id": "charming-determination",
   "metadata": {},
   "outputs": [
    {
     "name": "stdout",
     "output_type": "stream",
     "text": [
      "입력하시오 : 5 + 5\n",
      "정수입니다.\n"
     ]
    }
   ],
   "source": [
    "try: #구문시작\n",
    "    num = eval(input('입력하시오 : ')) #입력받은 값 num으로 대입\n",
    "    if num == int(num): #만약 입력값이 정수라면\n",
    "        print('정수입니다.') #해당문구 출력\n",
    "    else : #아니면\n",
    "        print('소수입니다.') #해당문구 출력\n",
    "except: # 오류발생시\n",
    "    print('math error') #해당문구 출력"
   ]
  },
  {
   "cell_type": "code",
   "execution_count": null,
   "id": "affecting-bracelet",
   "metadata": {},
   "outputs": [],
   "source": []
  }
 ],
 "metadata": {
  "kernelspec": {
   "display_name": "Python 3",
   "language": "python",
   "name": "python3"
  },
  "language_info": {
   "codemirror_mode": {
    "name": "ipython",
    "version": 3
   },
   "file_extension": ".py",
   "mimetype": "text/x-python",
   "name": "python",
   "nbconvert_exporter": "python",
   "pygments_lexer": "ipython3",
   "version": "3.8.8"
  }
 },
 "nbformat": 4,
 "nbformat_minor": 5
}
