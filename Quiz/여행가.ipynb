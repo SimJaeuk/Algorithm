{
 "cells": [
  {
   "cell_type": "code",
   "execution_count": null,
   "metadata": {},
   "outputs": [],
   "source": [
    "여행가 A는 N * N 크기의 정사각형 공간위에 서 있다. 이 공간은 1 * 1 크기의 정사각형으로 나누어져 있다. \n",
    "가정 왼쪽 위 좌표는 (1,1)이며, 가장 오른쪽 아래 좌표는 (N,N)에 해당한다. \n",
    "여행가 A는 상,하,좌,우 방향으로 이동할 수 있으며, 시작 좌표는 항상 (1,1)이다, \n",
    "우리 앞에는 여행가 A가 이동할 계획이 적힌 계획서가 놓여 있다. \n",
    "계획서에는 하나의 줄에 띄어쓰기를 기준으로 하여 L,R,U,D 중 하나의 문자가 반복적으로 적혀 있다. \n",
    "각 문자의 의미는 다음과 같다. \n",
    "L : 왼쪽으로 한 칸 이동 R : 오른쪽으로 한 칸 이동 \n",
    "U : 위로 한 칸 이동   D : 아래로 한 칸 이동 \n",
    "이 때 여행가 A가 N*N 크기의 정사각형 공간을 벗어나는 움직임은 무시된다. 예를 들어, (1,1)의 위치에서 L혹은 U를 만나면 무시된다. \n",
    "입력 조건 : 첫째 줄에 공간의 크기를 나타내는 N이 주어진다(1<=N <=100) \n",
    "둘째 줄에 여행가 A가 이동할 계획서 내용이 주어진다 \n",
    "(1<=이동횟수<=100) 출력 조건 : 첫째 줄에 여행가 A가 최종적으로 도착할 지점의 좌표(X,Y)를 공백으로 구분하여 출력한다. "
   ]
  },
  {
   "cell_type": "code",
   "execution_count": 1,
   "metadata": {},
   "outputs": [
    {
     "name": "stdout",
     "output_type": "stream",
     "text": [
      "5\n",
      "R R R U D D\n",
      "3 4\n"
     ]
    }
   ],
   "source": [
    "n = int(input())          # 정사각형 입력받기\n",
    "x, y = 1, 1               # x,y 기본값\n",
    "plans = input().split()   # 좌표 이동 값 입력받기\n",
    "\n",
    "dx = [0, 0, -1, 1]                   \n",
    "dy = [-1, 1, 0, 0]                   \n",
    "move_types = ['L', 'R', 'U', 'D']    #  이동 방향목록\n",
    "\n",
    "for plan in plans:                              # 입력값 만큼 반복\n",
    "    for i in range(len(move_types)):            # 이동 방향 길이만큼 반복\n",
    "        if plan == move_types[i]:               # 이동방향 확인 후\n",
    "            nx = x + dx[i]                      # 해당 방향으로 이동\n",
    "            ny = y + dy[i]                      # 해당 방향으로 이동\n",
    "    if nx < 1 or ny < 1 or nx > n or ny > n:  # 공간을 벗어나는 경우\n",
    "        continue                              # 무시하고 진행\n",
    "    x, y = nx, ny                              # 이동\n",
    "\n",
    "print(x, y)                                    # 출력"
   ]
  }
 ],
 "metadata": {
  "kernelspec": {
   "display_name": "Python 3",
   "language": "python",
   "name": "python3"
  },
  "language_info": {
   "codemirror_mode": {
    "name": "ipython",
    "version": 3
   },
   "file_extension": ".py",
   "mimetype": "text/x-python",
   "name": "python",
   "nbconvert_exporter": "python",
   "pygments_lexer": "ipython3",
   "version": "3.8.5"
  }
 },
 "nbformat": 4,
 "nbformat_minor": 4
}
