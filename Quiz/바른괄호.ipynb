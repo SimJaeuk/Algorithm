{
 "cells": [
  {
   "cell_type": "code",
   "execution_count": null,
   "metadata": {},
   "outputs": [],
   "source": [
    "(())와 같은 문자열은 바른 문자열이지만 ()()) 와 같은 문자열은 바르지 않은 문자열이다.\n",
    "입력으로 주어진 괄호 문자열이 바른 문자열인지 아닌지 \"YES\"와 \"NO\"로 구분하여 출력해보자"
   ]
  },
  {
   "cell_type": "code",
   "execution_count": 17,
   "metadata": {},
   "outputs": [
    {
     "name": "stdout",
     "output_type": "stream",
     "text": [
      "(4 + 4) - (2 - 2)\n",
      "YES\n"
     ]
    }
   ],
   "source": [
    "try:\n",
    "    eval(input())      #식 받기\n",
    "    print(\"YES\")       #정상적이면 YES\n",
    "except SyntaxError:   #SyntaxError 발생시\n",
    "    print(\"NO\")        #NO"
   ]
  },
  {
   "cell_type": "code",
   "execution_count": 3,
   "metadata": {},
   "outputs": [
    {
     "name": "stdout",
     "output_type": "stream",
     "text": [
      "()()()()()\n",
      "YES\n"
     ]
    },
    {
     "name": "stderr",
     "output_type": "stream",
     "text": [
      "<string>:1: SyntaxWarning: 'tuple' object is not callable; perhaps you missed a comma?\n"
     ]
    }
   ],
   "source": [
    "try:\n",
    "    eval(input())      #식 받기\n",
    "    print(\"YES\")       #정상적이면 YES\n",
    "except SyntaxError:   #SyntaxError 발생시\n",
    "    print(\"NO\")        #No\n",
    "except TypeError:     #TypeError 발생시\n",
    "    print(\"YES\")       #Yes"
   ]
  },
  {
   "cell_type": "code",
   "execution_count": 36,
   "metadata": {},
   "outputs": [
    {
     "name": "stdout",
     "output_type": "stream",
     "text": [
      "() [] {} <>\n",
      "True\n",
      "))((\n",
      "False\n"
     ]
    }
   ],
   "source": [
    "class brackets:                                                                    #클래스 생성\n",
    "    def bracket(user_input):                                                       # 함수 생성\n",
    "        user_input=input()                                                        # 문자열 입력받기\n",
    "        letter=['(',')','[',']','{','}','<','>']                                 # 처리해야할 문자 리스트\n",
    "        stack=[]                                                                # 괄호 담을 리스트\n",
    "\n",
    "\n",
    "        for word in user_input:                                                # 입력받은 값 반복문\n",
    "            if word in letter:                                                # 단어가 처리해야할게 문자리스트에 있으면\n",
    "                if len(stack)==0:                                             # 리스트에 아무것도 없으면\n",
    "                    stack.append(word)                                        # 문자를 스택에 넣음\n",
    "                else:                                                         # 스택 리스트에 뭐라도 있으면\n",
    "                    if word==letter[0] or word==letter[2] or word==letter[4] or word==letter[6]: # 문자가 (,{,[,<이면\n",
    "                        stack.append(word)                                     # 스택리스트에 넣음\n",
    "                    elif word==letter[1] and stack[-1]==letter[0]:            # 문자가 )이고 스택리스트 마지막이 (이면\n",
    "                        stack.pop()                                             # 스택 리스트 마지막 값 삭제\n",
    "                    elif word==letter[3] and stack[-1]==letter[2]:            # 문자가 ]이고 스택리스트 마지막이 [이면\n",
    "                        stack.pop()                                             # 스택 리스트 마지막 값 삭제\n",
    "                    elif word==letter[5] and stack[-1]==letter[4]:             # 문자가 }이고 스택리스트 마지막이 {이면\n",
    "                        stack.pop()                                             # 스택 리스트 마지막 값 삭제\n",
    "                    elif word==letter[7] and stack[-1]==letter[6]:            # 문자가 >이고 스택리스트 마지막이 <이면\n",
    "                        stack.pop()                                             # 스택 리스트 마지막 값 삭제\n",
    "                    else:                                                      # 그 이외의 경우\n",
    "                        break                                                 # 반복문 탈출\n",
    "\n",
    "\n",
    "        if len(stack)==0:                                                      # 스택리스트가 비어있으면\n",
    "            return True                                                       #  True 리턴\n",
    "        else:                                                                  # 아닌경우\n",
    "            return False                                                     #  False 리턴\n",
    "    \n",
    "    \n",
    "print(bracket(user_input))                                                     #출력\n",
    "print(bracket(user_input))                                                     #출력"
   ]
  },
  {
   "cell_type": "code",
   "execution_count": null,
   "metadata": {},
   "outputs": [],
   "source": []
  }
 ],
 "metadata": {
  "kernelspec": {
   "display_name": "Python 3",
   "language": "python",
   "name": "python3"
  },
  "language_info": {
   "codemirror_mode": {
    "name": "ipython",
    "version": 3
   },
   "file_extension": ".py",
   "mimetype": "text/x-python",
   "name": "python",
   "nbconvert_exporter": "python",
   "pygments_lexer": "ipython3",
   "version": "3.8.5"
  }
 },
 "nbformat": 4,
 "nbformat_minor": 5
}
