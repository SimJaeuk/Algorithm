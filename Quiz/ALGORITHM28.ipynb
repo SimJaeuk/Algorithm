{
 "cells": [
  {
   "cell_type": "code",
   "execution_count": null,
   "id": "fossil-companion",
   "metadata": {},
   "outputs": [],
   "source": [
    "a = [1,2,3,4]\n",
    "b = [a,b,c,d]\n",
    "이런 리스트가 있을 때 [[1,a],[b,2],[3,c],[d,4]] 이런식으로 a,b리스트가 번갈아가면서 출력\n",
    "\n",
    "Input = 1,2,3,4 \n",
    "Input = a,b,c,d \n",
    "[['1', 'a'], ['b', '2'], ['3', 'c'], ['d', '4']]"
   ]
  },
  {
   "cell_type": "code",
   "execution_count": 22,
   "id": "worth-effort",
   "metadata": {
    "scrolled": true
   },
   "outputs": [
    {
     "name": "stdout",
     "output_type": "stream",
     "text": [
      "a,b,c,d,e,f,g\n",
      "1,2,3,4,5,6,7\n",
      "[['a', '1'], ['2', 'b'], ['c', '3'], ['4', 'd'], ['e', '5'], ['6', 'f'], ['g', '7']]\n"
     ]
    }
   ],
   "source": [
    "a = input().split(',')      # a값 입력 후 ,를 기준으로 나누기\n",
    "b = input().split(',')      # b값 입력 후 ,를 기준으로 나누기\n",
    "\n",
    "lst = []                      # 빈 리스트 생성\n",
    "count = 0                   # 카운트용 변수 생성\n",
    "\n",
    "for i, j in zip(a, b):     # 입력받은 a,b 리스트 zip으로 합쳐서 포문 돌리기\n",
    "    if count % 2 == 0:     # 카운트를 2로 나눈 나머지가 0인경우\n",
    "        lst.append([i, j])    # a, b 순으로 리스트에 담기\n",
    "    else:                    #아닌경우\n",
    "        lst.append([j, i])   #리스트에 b, a 순으로 담기\n",
    "    count += 1              #카운트 +1\n",
    "\n",
    "print(lst)                  #결과출력"
   ]
  }
 ],
 "metadata": {
  "kernelspec": {
   "display_name": "Python 3",
   "language": "python",
   "name": "python3"
  },
  "language_info": {
   "codemirror_mode": {
    "name": "ipython",
    "version": 3
   },
   "file_extension": ".py",
   "mimetype": "text/x-python",
   "name": "python",
   "nbconvert_exporter": "python",
   "pygments_lexer": "ipython3",
   "version": "3.8.8"
  }
 },
 "nbformat": 4,
 "nbformat_minor": 5
}
