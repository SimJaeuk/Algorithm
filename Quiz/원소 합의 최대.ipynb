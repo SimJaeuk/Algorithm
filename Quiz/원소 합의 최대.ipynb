{
 "cells": [
  {
   "cell_type": "code",
   "execution_count": 14,
   "metadata": {},
   "outputs": [
    {
     "name": "stdout",
     "output_type": "stream",
     "text": [
      "5 5\n",
      "2 3 4 5 6\n",
      "3 4 5 6 7\n",
      "29\n"
     ]
    }
   ],
   "source": [
    "# N과 K 입력 받기 \n",
    "N, K = map(int, input().split())\n",
    "# A리스트 입력받기 \n",
    "A = list(map(int, input().split())) \n",
    "# B리스트 입력받기 \n",
    "B = list(map(int, input().split())) \n",
    "\n",
    "# 리스트 A 오름차순 정렬\n",
    "A.sort() \n",
    "# 리스트 B는 내림차순 정렬\n",
    "B.sort(reverse=True) \n",
    "\n",
    "# 첫 번째 인덱스부터 확인하며, 두 배열의 원소를 최대 K번 비교 \n",
    "for i in range(K):\n",
    "    if A[i] < B[i]:  # A의 원소가 B의 원소보다 작은 경우 \n",
    "        A[i], B[i] = B[i], A[i]  # 두 원소를 교체 \n",
    "    else: # 아닌경우 반복문 탈출\n",
    "        max = sum(A) # A리스트의 합을 max변수에 바인딩\n",
    "        \n",
    "print(max) # 출력"
   ]
  }
 ],
 "metadata": {
  "kernelspec": {
   "display_name": "Python 3",
   "language": "python",
   "name": "python3"
  },
  "language_info": {
   "codemirror_mode": {
    "name": "ipython",
    "version": 3
   },
   "file_extension": ".py",
   "mimetype": "text/x-python",
   "name": "python",
   "nbconvert_exporter": "python",
   "pygments_lexer": "ipython3",
   "version": "3.8.5"
  }
 },
 "nbformat": 4,
 "nbformat_minor": 4
}
