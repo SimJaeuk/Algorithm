{
 "cells": [
  {
   "cell_type": "code",
   "execution_count": 22,
   "metadata": {},
   "outputs": [
    {
     "name": "stdout",
     "output_type": "stream",
     "text": [
      "True\n",
      "True\n"
     ]
    }
   ],
   "source": [
    "class Solution:                                      # 클래스 선언\n",
    "    def isAdditiveNumber(self, num):                 # 함수 생성\n",
    "        n = len(num)                                 # n = 입력값의 길이\n",
    "        for i in range(1, n):                       # 입력값만큼 반복문\n",
    "            for j in range(i+1, n):                 # i+1부터 입력값까지 반복문 \n",
    "                num1 = num[:i]                      # num1 = 0번째 부터 i번째까지\n",
    "                num2 = num[i:j]                     # num2 = i번째부터 j번째까지\n",
    "        \n",
    "                # 만약 num1의 첫번째 자리수가 0이고 i보다 크거나 num2의 첫번째 자리수가 0이고 j-1이 1보다 크면\n",
    "                if (num1[0] == '0' and i > 1) or (num2[0] == '0' and j-i > 1):\n",
    "                    continue                       # 계속함\n",
    "                    \n",
    "                while j < n:                          # j가 n보다 작으면 반복\n",
    "                    num3 = str(int(num1) + int(num2))  # num3 =  num1 + num2\n",
    "                    if not num.startswith(num3, j):    # 만약 입력값의 j번째가 num3가 아니면\n",
    "                        break                          # 중단\n",
    "                    j += len(num3)                     # j = j+num3의 길이\n",
    "                    num1, num2 = num2, num3            # num1 = num2, num2 = num 3\n",
    "                        \n",
    "                    if j == n:                        # j == n이면\n",
    "                        return True                  # True 반환\n",
    "        return False                                 # 이외의경우 False 반환\n",
    "                \n",
    "print(Solution().isAdditiveNumber(\"112358\"))          # 출력\n",
    "print(Solution().isAdditiveNumber(\"199100199\"))       # 출력"
   ]
  }
 ],
 "metadata": {
  "kernelspec": {
   "display_name": "Python 3",
   "language": "python",
   "name": "python3"
  },
  "language_info": {
   "codemirror_mode": {
    "name": "ipython",
    "version": 3
   },
   "file_extension": ".py",
   "mimetype": "text/x-python",
   "name": "python",
   "nbconvert_exporter": "python",
   "pygments_lexer": "ipython3",
   "version": "3.8.5"
  }
 },
 "nbformat": 4,
 "nbformat_minor": 4
}
