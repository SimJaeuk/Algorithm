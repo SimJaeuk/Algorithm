{
 "cells": [
  {
   "cell_type": "code",
   "execution_count": null,
   "metadata": {},
   "outputs": [],
   "source": [
    "어떤 숫자에서 k개의 수를 뽑았을 때 가장 큰 수 뽑기\n",
    "ex) 1723에서 두 수를 뽑으면 [17,12,13,72,73,23] 이중 가장 큰 수는 73\n",
    "어떤 수 n개에서 k개의 수를 선택하여 만들 수 있는 수중 가장 큰 수 찾기"
   ]
  },
  {
   "cell_type": "code",
   "execution_count": 1,
   "metadata": {},
   "outputs": [
    {
     "name": "stdout",
     "output_type": "stream",
     "text": [
      "숫자를 입력하세요 : 0123456789\n",
      "자릿수를 입력하세요 : 10\n",
      "Largest number: 9876543210"
     ]
    }
   ],
   "source": [
    "n = list(input(\"숫자를 입력하세요 : \")) # 숫자 입력받기\n",
    "k = int(input(\"자릿수를 입력하세요 : \")) # 자릿수 입력받기\n",
    "\n",
    "class number_sorting:  #클래스 생성\n",
    "    def Ln(n, k): # 함수 생성\n",
    "        n = sorted(n) # 정렬 후 담기\n",
    "        for i in range(1, k+1): # k개 동안\n",
    "            print(n[-i], end='') # 뒤에서부터 뽑기\n",
    "            \n",
    "    def Sn(n, k):      #함수 생성\n",
    "        sn = sorted(n)  #정렬 후 sn변수에 담기\n",
    "        for i in range(0, k): # 맨앞부터 반복문\n",
    "            print(sn[i], end='') # 앞에서부터 뽑기\n",
    "            \n",
    "\n",
    "            \n",
    "print(\"Largest number:\" , end=' ') # 출력\n",
    "number_sorting.Ln(n, k) # 함수호출"
   ]
  },
  {
   "cell_type": "code",
   "execution_count": 2,
   "metadata": {},
   "outputs": [
    {
     "name": "stdout",
     "output_type": "stream",
     "text": [
      "Smallest number: 0123456789"
     ]
    }
   ],
   "source": [
    "print(\"Smallest number:\" , end=' ') # 출력\n",
    "number_sorting.Sn(n, k) # 함수호출"
   ]
  }
 ],
 "metadata": {
  "kernelspec": {
   "display_name": "Python 3",
   "language": "python",
   "name": "python3"
  },
  "language_info": {
   "codemirror_mode": {
    "name": "ipython",
    "version": 3
   },
   "file_extension": ".py",
   "mimetype": "text/x-python",
   "name": "python",
   "nbconvert_exporter": "python",
   "pygments_lexer": "ipython3",
   "version": "3.8.5"
  }
 },
 "nbformat": 4,
 "nbformat_minor": 4
}
