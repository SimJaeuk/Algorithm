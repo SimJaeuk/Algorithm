{
 "cells": [
  {
   "cell_type": "code",
   "execution_count": 1,
   "metadata": {},
   "outputs": [
    {
     "name": "stdout",
     "output_type": "stream",
     "text": [
      "1A3B\n",
      "1A1B\n",
      "0A0B\n",
      "1A0B\n"
     ]
    }
   ],
   "source": [
    "class Solution:                                # 클래스 선언\n",
    "    def getHint(secret, guess):                # 함수 선언\n",
    "        bulls = 0                              # 황소의 수 담을 변수 초기화\n",
    "        bucket = [0] * 10                      # 10개의 0을 담을 리스트 생성\n",
    "        \n",
    "        for s, g in zip(secret, guess):        # zip함수를 통해 입력받은 인자 위치별로 같은지 확인\n",
    "            if s == g:                         # s와 g가 같으면\n",
    "                bulls += 1                     # bulls 리스트 1 증가\n",
    "            else:                              # 아닌경우\n",
    "                bucket[int(s)] += 1            # bucket의(s)번째 자릿수에 +1\n",
    "                bucket[int(g)] -= 1            # bucket의(g)번째 자릿수에 -1\n",
    "\n",
    "        # A는 bulls개 B는 secret의 자릿 수 - bulls의 수 - 버켓안에 있는 모든 수 중 x가 0보다 큰경우를 합한 수\n",
    "        return f'{bulls}A{len(secret) - bulls - sum(x for x in bucket if x > 0)}B' \n",
    "    \n",
    "print(Solution.getHint(\"1807\", \"7810\")) # 출력\n",
    "print(Solution.getHint(\"1123\", \"0111\")) # 출력\n",
    "print(Solution.getHint(\"1\", \"0\"))       # 출력\n",
    "print(Solution.getHint(\"1\", \"1\"))       # 출력"
   ]
  },
  {
   "cell_type": "code",
   "execution_count": 23,
   "metadata": {},
   "outputs": [
    {
     "data": {
      "text/plain": [
       "[0, 0, 0, 0, 0, 0, 0, 0, 0, 0]"
      ]
     },
     "execution_count": 23,
     "metadata": {},
     "output_type": "execute_result"
    }
   ],
   "source": [
    "[0] * 10"
   ]
  },
  {
   "cell_type": "code",
   "execution_count": 67,
   "metadata": {},
   "outputs": [
    {
     "name": "stdout",
     "output_type": "stream",
     "text": [
      "[0, 0, 0, 0, 0, 0, 0, 0, 0, 0]\n",
      "[0, 0, 0, 0, 0, 0, 0, 0, -1, 1]\n",
      "[0, 0, 0, 0, 0, 0, 0, 0, 0, 0]\n",
      "[0, 0, 0, 0, 0, 0, 0, 0, 0, 0]\n"
     ]
    }
   ],
   "source": [
    "buckets = [0] * 10\n",
    "bull = 0\n",
    "for s, g in zip('1987','1897'):\n",
    "    \n",
    "    if s == g:\n",
    "        bull += 1\n",
    "    else:\n",
    "        buckets[int(s)] += 1\n",
    "        buckets[int(g)] -= 1\n",
    "    print(buckets)\n",
    "#     print(f'{bull}A{(4) - bull - sum(x for x in buckets if x > 0)}B')"
   ]
  },
  {
   "cell_type": "code",
   "execution_count": null,
   "metadata": {},
   "outputs": [],
   "source": []
  }
 ],
 "metadata": {
  "kernelspec": {
   "display_name": "Python 3",
   "language": "python",
   "name": "python3"
  },
  "language_info": {
   "codemirror_mode": {
    "name": "ipython",
    "version": 3
   },
   "file_extension": ".py",
   "mimetype": "text/x-python",
   "name": "python",
   "nbconvert_exporter": "python",
   "pygments_lexer": "ipython3",
   "version": "3.8.5"
  }
 },
 "nbformat": 4,
 "nbformat_minor": 4
}
