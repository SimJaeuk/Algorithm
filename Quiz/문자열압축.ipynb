{
 "cells": [
  {
   "cell_type": "code",
   "execution_count": null,
   "id": "satellite-collar",
   "metadata": {},
   "outputs": [],
   "source": [
    "문자열을 입력 받아서, 같은 문자가 연속적으로 반복되는\n",
    "경우에 그 반복 횟수를 표시하여 문자열을 압축하기.\n",
    "입력 예시: aaabbcccccca\n",
    "출력 예시: a3b2c6a1"
   ]
  },
  {
   "cell_type": "code",
   "execution_count": 32,
   "id": "unusual-creator",
   "metadata": {
    "scrolled": true
   },
   "outputs": [
    {
     "name": "stdout",
     "output_type": "stream",
     "text": [
      "a4b3c2z4a1\n"
     ]
    }
   ],
   "source": [
    "s = \"aaaabbbcczzzza\" #문자열 입력\n",
    "\n",
    "result = s[0] #반복문에서 문자열 형태로 반환되는 결과들을 담을 변수\n",
    "count = 0 #반복되서 나오는 문자 수만큼 카운팅되는 값을 담을 변수\n",
    "\n",
    "for i in s: #반복문 실행\n",
    "    if i == result[-1]: #result변수 마지막 문자와 비교 else에서 result변수에 값이 추가되기 때문에 마지막 문자[-1]와 비교.\n",
    "        count += 1 #카운트 변수에 +1\n",
    "    else: #아닌경우\n",
    "        result += str(count) + i #카운팅된 값을 문자열 형태로 result 변수 마지막에 추가 i를 마지막 문자로 추가\n",
    "        count = 1 #카운트 변수 = 1\n",
    "result += str(count) #결과들이 담긴 변수에 카운팅된 값을 문자열 형태로 추가\n",
    "\n",
    "print(result) #출력"
   ]
  },
  {
   "cell_type": "code",
   "execution_count": null,
   "id": "relative-trigger",
   "metadata": {},
   "outputs": [],
   "source": []
  }
 ],
 "metadata": {
  "kernelspec": {
   "display_name": "Python 3",
   "language": "python",
   "name": "python3"
  },
  "language_info": {
   "codemirror_mode": {
    "name": "ipython",
    "version": 3
   },
   "file_extension": ".py",
   "mimetype": "text/x-python",
   "name": "python",
   "nbconvert_exporter": "python",
   "pygments_lexer": "ipython3",
   "version": "3.8.8"
  }
 },
 "nbformat": 4,
 "nbformat_minor": 5
}
