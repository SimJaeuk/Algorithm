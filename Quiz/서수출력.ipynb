{
 "cells": [
  {
   "cell_type": "code",
   "execution_count": 2,
   "metadata": {},
   "outputs": [],
   "source": [
    "기수(Cardinal)를 입력하면 영어 서수(Ordinal)로 출력하는 함수를 작성합니다."
   ]
  },
  {
   "cell_type": "code",
   "execution_count": 4,
   "metadata": {},
   "outputs": [
    {
     "name": "stdout",
     "output_type": "stream",
     "text": [
      "1st\n",
      "23rd\n",
      "13th\n"
     ]
    }
   ],
   "source": [
    "def num(n): # num 함수 생성\n",
    "    if n%10==1 and n%100!=11:    #입력된값 나누기 10의 나머지가 1이고 100으로 나눈 나머지가 11이 아니라면\n",
    "        return str(n)+\"st\"       #해당 값 반환\n",
    "    elif n%10==2 and n%100!=12: #입력된값 나누기 10의 나머지가 2이고 100으로 나눈 나머지가 12가 아니라면\n",
    "        return str(n)+\"nd\"       #해당 값 반환\n",
    "    elif n%10==3 and n%100!=13: #입력된값 나누기 10의 나머지가 3이고 100으로 나눈 나머지가 13이 아니라면\n",
    "        return str(n)+\"rd\"       #해당 값 반환\n",
    "    else:                        #이외의 경우\n",
    "        return str(n)+\"th\"       #해당 값 반환\n",
    "    \n",
    "print(num(1))                     #출력\n",
    "print (num(23))                   #출력\n",
    "print (num(13))                   #출력"
   ]
  },
  {
   "cell_type": "code",
   "execution_count": 16,
   "metadata": {},
   "outputs": [
    {
     "data": {
      "text/plain": [
       "1"
      ]
     },
     "execution_count": 16,
     "metadata": {},
     "output_type": "execute_result"
    }
   ],
   "source": []
  },
  {
   "cell_type": "code",
   "execution_count": null,
   "metadata": {},
   "outputs": [],
   "source": []
  }
 ],
 "metadata": {
  "kernelspec": {
   "display_name": "Python 3",
   "language": "python",
   "name": "python3"
  },
  "language_info": {
   "codemirror_mode": {
    "name": "ipython",
    "version": 3
   },
   "file_extension": ".py",
   "mimetype": "text/x-python",
   "name": "python",
   "nbconvert_exporter": "python",
   "pygments_lexer": "ipython3",
   "version": "3.8.5"
  }
 },
 "nbformat": 4,
 "nbformat_minor": 4
}
