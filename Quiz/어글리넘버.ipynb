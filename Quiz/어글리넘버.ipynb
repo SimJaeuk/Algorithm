{
 "cells": [
  {
   "cell_type": "markdown",
   "metadata": {},
   "source": [
    "## 어글리 넘버는 1과 소수 2, 3, 5의 배수로제한된 양의 정수입니다. \n",
    "\n",
    "## 정수 n이 지정되면 n번째 어글리 넘버를 반환합니다. "
   ]
  },
  {
   "cell_type": "code",
   "execution_count": 20,
   "metadata": {},
   "outputs": [
    {
     "name": "stdout",
     "output_type": "stream",
     "text": [
      "1\n",
      "16\n",
      "24\n"
     ]
    }
   ],
   "source": [
    "class Solution:\n",
    "    def nthUglyNumber(self, n: int) -> int:\n",
    "        ugly = [1]*n\n",
    "        p2 = p3 = p5 = 0\n",
    "        for i in range(1, n):\n",
    "            u2, u3, u5 = 2*ugly[p2], 3*ugly[p3], 5*ugly[p5]\n",
    "            ugly[i] = min(u2, u3, u5)\n",
    "            if ugly[i] == u2:\n",
    "                p2 += 1\n",
    "            if ugly[i] == u3:\n",
    "                p3 += 1\n",
    "            if ugly[i] == u5:\n",
    "                p5 += 1\n",
    "        return ugly[-1]\n",
    "    \n",
    "print(Solution().nthUglyNumber(1))\n",
    "print(Solution().nthUglyNumber(12))\n",
    "print(Solution().nthUglyNumber(15))"
   ]
  },
  {
   "cell_type": "code",
   "execution_count": 1,
   "metadata": {},
   "outputs": [
    {
     "name": "stdout",
     "output_type": "stream",
     "text": [
      "12\n",
      "1\n"
     ]
    }
   ],
   "source": [
    "class Solution:                                           #클래스선언\n",
    "    def nthUglyNumber(self, n):                           #함수 선언\n",
    "        ugly = [1]                                        #어글리 넘버 담을 리스트\n",
    "        two = three = five = 0                            # 2, 3, 5 배수 확인용 변수\n",
    "        while len(ugly) < n:                             # 입력값이 리스트의 길이보다 큰경우 반복\n",
    "            \n",
    "            # 어글리[two]*2 보다 어글리 리스트의 마지막 값이 크거나 같으면 two변수 +1\n",
    "            while ugly[two]*2 <= ugly[-1]: two +=1       \n",
    "            # 어글리[three]*3 보다 어글리 리스트의 마지막 값이 크거나 같으면 three변수 +1\n",
    "            while ugly[three]*3 <= ugly[-1]: three +=1\n",
    "            # 어글리[five]*5 보다 어글리 리스트의 마지막 값이 크거나 같으면 five변수 +1                \n",
    "            while ugly[five]*5 <= ugly[-1]: five +=1\n",
    "            # 어글리 리스트에 해당값 중 최소값 추가\n",
    "            ugly.append(min(ugly[two]*2,ugly[three]*3,ugly[five]*5))\n",
    "        \n",
    "        return ugly[-1] # 어글리 리스트의 맨 끝 값을 반환\n",
    "    \n",
    "print(Solution().nthUglyNumber(10))  #출력\n",
    "print(Solution().nthUglyNumber(1))  #출력"
   ]
  },
  {
   "cell_type": "code",
   "execution_count": 9,
   "metadata": {},
   "outputs": [
    {
     "name": "stdout",
     "output_type": "stream",
     "text": [
      "2\n",
      "3\n",
      "4\n",
      "5\n",
      "6\n",
      "8\n",
      "9\n",
      "10\n",
      "12\n",
      "15\n",
      "16\n",
      "18\n",
      "20\n",
      "24\n",
      "25\n",
      "27\n",
      "30\n",
      "32\n",
      "36\n"
     ]
    }
   ],
   "source": [
    "n = 20\n",
    "ugly = [1]\n",
    "two = three = five = 0\n",
    "while len(ugly) < n:                            \n",
    "    while ugly[two]*2 <= ugly[-1]: \n",
    "        two +=1       \n",
    "    while ugly[three]*3 <= ugly[-1]: \n",
    "        three +=1\n",
    "    while ugly[five]*5 <= ugly[-1]: \n",
    "        five +=1\n",
    "        \n",
    "    ugly.append(min(ugly[two]*2,ugly[three]*3,ugly[five]*5))\n",
    "    print(ugly[-1])"
   ]
  },
  {
   "cell_type": "code",
   "execution_count": null,
   "metadata": {},
   "outputs": [],
   "source": []
  },
  {
   "cell_type": "code",
   "execution_count": 7,
   "metadata": {},
   "outputs": [
    {
     "data": {
      "text/plain": [
       "2"
      ]
     },
     "execution_count": 7,
     "metadata": {},
     "output_type": "execute_result"
    }
   ],
   "source": []
  },
  {
   "cell_type": "code",
   "execution_count": null,
   "metadata": {},
   "outputs": [],
   "source": []
  }
 ],
 "metadata": {
  "kernelspec": {
   "display_name": "Python 3",
   "language": "python",
   "name": "python3"
  },
  "language_info": {
   "codemirror_mode": {
    "name": "ipython",
    "version": 3
   },
   "file_extension": ".py",
   "mimetype": "text/x-python",
   "name": "python",
   "nbconvert_exporter": "python",
   "pygments_lexer": "ipython3",
   "version": "3.8.5"
  }
 },
 "nbformat": 4,
 "nbformat_minor": 4
}
