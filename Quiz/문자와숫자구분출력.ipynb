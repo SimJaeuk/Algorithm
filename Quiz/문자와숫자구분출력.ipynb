{
 "cells": [
  {
   "cell_type": "code",
   "execution_count": 1,
   "metadata": {},
   "outputs": [],
   "source": [
    "문자와 숫자가 섞인 문자열을 입력 받을 때 구별하여 출력"
   ]
  },
  {
   "cell_type": "code",
   "execution_count": 51,
   "metadata": {},
   "outputs": [
    {
     "name": "stdout",
     "output_type": "stream",
     "text": [
      "simju93\n",
      "str :  simju\n",
      "int :  93\n"
     ]
    }
   ],
   "source": [
    "int_input = '' #빈 변수 생성\n",
    "str_input = '' #빈 변수 생성\n",
    "\n",
    "div = input() #입력값 받기\n",
    "\n",
    "for i in div: #입력받은 변수를 한글자씩 검사\n",
    "    try: #트라이\n",
    "        int(i) #입력받은 변수 정수화\n",
    "        int_input+=i #정수화될 시 int_input 변수에 담기\n",
    "    except: #오류발생 시\n",
    "        str_input+=i #str_input 변수에 담기\n",
    "        \n",
    "print(\"str : \",str_input) #해당문구 출력\n",
    "print(\"int : \",int_input) #해당문구 출력"
   ]
  },
  {
   "cell_type": "code",
   "execution_count": 52,
   "metadata": {},
   "outputs": [],
   "source": [
    "#try except 활용에대해서 찾아보자"
   ]
  }
 ],
 "metadata": {
  "kernelspec": {
   "display_name": "Python 3",
   "language": "python",
   "name": "python3"
  },
  "language_info": {
   "codemirror_mode": {
    "name": "ipython",
    "version": 3
   },
   "file_extension": ".py",
   "mimetype": "text/x-python",
   "name": "python",
   "nbconvert_exporter": "python",
   "pygments_lexer": "ipython3",
   "version": "3.8.5"
  }
 },
 "nbformat": 4,
 "nbformat_minor": 4
}
