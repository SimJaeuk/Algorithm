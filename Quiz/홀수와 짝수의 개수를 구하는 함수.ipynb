{
 "cells": [
  {
   "cell_type": "code",
   "execution_count": null,
   "id": "about-gabriel",
   "metadata": {},
   "outputs": [],
   "source": [
    "홀수와 짝수의 개수를 구하는 func 함수를 만드세요."
   ]
  },
  {
   "cell_type": "code",
   "execution_count": 14,
   "id": "hourly-corps",
   "metadata": {},
   "outputs": [
    {
     "name": "stdout",
     "output_type": "stream",
     "text": [
      "홀수5개 짝수5개\n"
     ]
    }
   ],
   "source": [
    "numlist = [1,2,3,4,5,6,7,8,9,10]\n",
    "odd = 0\n",
    "eve = 0\n",
    "\n",
    "for i in numlist:\n",
    "    if i % 2 == 1:\n",
    "        odd += 1\n",
    "    else:\n",
    "        eve += 1\n",
    "        \n",
    "print('홀수'+str(odd)+'개' , '짝수'+str(eve)+'개')"
   ]
  },
  {
   "cell_type": "code",
   "execution_count": 15,
   "id": "colonial-shuttle",
   "metadata": {},
   "outputs": [],
   "source": [
    "def func(numlist): #numlist 함수 생성\n",
    "    odd = 0 # 홀수를 담을 변수 생성\n",
    "    eve = 0 # 짝수를 담을 변수 생성\n",
    "\n",
    "    for i in numlist: #numlist 포문으로 하나씩 판별\n",
    "        if i % 2 == 1: #i를 2로 나눈 나머지가 1이면\n",
    "            odd += 1   #홀수 + 1\n",
    "        else:          #아닐경우\n",
    "            eve += 1   #짝수 + 1\n",
    "        \n",
    "    print('홀수'+str(odd)+'개' , '짝수'+str(eve)+'개') #합산한 홀수,짝수 출력"
   ]
  },
  {
   "cell_type": "code",
   "execution_count": 18,
   "id": "acting-antique",
   "metadata": {},
   "outputs": [
    {
     "name": "stdout",
     "output_type": "stream",
     "text": [
      "홀수5개 짝수4개\n"
     ]
    }
   ],
   "source": [
    "func([3,4,5,6,7,8,9,10,11])"
   ]
  },
  {
   "cell_type": "code",
   "execution_count": null,
   "id": "periodic-nightlife",
   "metadata": {},
   "outputs": [],
   "source": []
  }
 ],
 "metadata": {
  "kernelspec": {
   "display_name": "Python 3",
   "language": "python",
   "name": "python3"
  },
  "language_info": {
   "codemirror_mode": {
    "name": "ipython",
    "version": 3
   },
   "file_extension": ".py",
   "mimetype": "text/x-python",
   "name": "python",
   "nbconvert_exporter": "python",
   "pygments_lexer": "ipython3",
   "version": "3.8.8"
  }
 },
 "nbformat": 4,
 "nbformat_minor": 5
}
