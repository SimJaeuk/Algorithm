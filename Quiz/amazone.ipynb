{
 "cells": [
  {
   "cell_type": "code",
   "execution_count": null,
   "id": "colored-crash",
   "metadata": {},
   "outputs": [],
   "source": [
    "다음과 같은 형태의 배열을\n",
    "[a1,a2,a3...,an,b1,b2...bn]\n",
    "다음과 같은 형태로 바꾸시오\n",
    "[a1,b1,a2,b2.....an,bn]"
   ]
  },
  {
   "cell_type": "code",
   "execution_count": 6,
   "id": "urban-bibliography",
   "metadata": {},
   "outputs": [
    {
     "name": "stdout",
     "output_type": "stream",
     "text": [
      "['a1', 'b1', 'a2', 'b2', 'a3', 'b3', 'a4', 'b4']\n"
     ]
    }
   ],
   "source": [
    "Lst = [\"a1\",\"a2\",\"a3\",\"a4\",\"b1\",\"b2\",\"b3\",\"b4\"]  #입력리스트\n",
    "SortLst = []                                     #정렬후 담을 리스트생성\n",
    "index = Lst.index(\"b1\")                          #인덱스 값 담을 변수 생성\n",
    "\n",
    "for i in range(index):                          #b1의 인덱스 값만큼 반복문\n",
    "    Sort.append(Lst[i])                          #빈리스트에 Lst 값 순서대로 추가\n",
    "    Sort.append(Lst[index+i])                    #빈리스트에 Lst 값 b1 이후부터 순서대로 추가\n",
    "print(Sort)                                      #출력"
   ]
  }
 ],
 "metadata": {
  "kernelspec": {
   "display_name": "Python 3",
   "language": "python",
   "name": "python3"
  },
  "language_info": {
   "codemirror_mode": {
    "name": "ipython",
    "version": 3
   },
   "file_extension": ".py",
   "mimetype": "text/x-python",
   "name": "python",
   "nbconvert_exporter": "python",
   "pygments_lexer": "ipython3",
   "version": "3.8.8"
  }
 },
 "nbformat": 4,
 "nbformat_minor": 5
}
