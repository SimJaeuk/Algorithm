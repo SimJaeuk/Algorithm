{
 "cells": [
  {
   "cell_type": "code",
   "execution_count": null,
   "id": "acting-pittsburgh",
   "metadata": {},
   "outputs": [],
   "source": [
    "모든 짝수 번째 숫자를 * 로 치환하시오.\n",
    "(홀수 번째 숫자,또는 짝수 번째 문자를 치환하면 안됩니다.) \n",
    "print(cnvt(\"57uyft43yut89574389\"))\n",
    "5*uyft4*yut*9*7*3*9"
   ]
  },
  {
   "cell_type": "code",
   "execution_count": 31,
   "id": "prime-estonia",
   "metadata": {},
   "outputs": [
    {
     "name": "stdout",
     "output_type": "stream",
     "text": [
      "5*uyft4*yut*9*7*3*9\n"
     ]
    }
   ],
   "source": [
    "def cnvt(s):                        #함수 생성\n",
    "    l = list(s)                     #입력값 리스트로 변환\n",
    "    for k in range(1, len(l), 2):   #포문으로 짝수번째 자리만 반복\n",
    "        if l[k].isdigit():          #만약 해당 인덱스의 문자열이 숫자라면\n",
    "            l[k] = '*'              #해당 인덱스 값을 *로 변경\n",
    "    return ''.join(l)              #리스트 문자열로 합쳐서 반환\n",
    "\n",
    "print(cnvt(\"57uyft43yut89574389\"))  #출력"
   ]
  }
 ],
 "metadata": {
  "kernelspec": {
   "display_name": "Python 3",
   "language": "python",
   "name": "python3"
  },
  "language_info": {
   "codemirror_mode": {
    "name": "ipython",
    "version": 3
   },
   "file_extension": ".py",
   "mimetype": "text/x-python",
   "name": "python",
   "nbconvert_exporter": "python",
   "pygments_lexer": "ipython3",
   "version": "3.8.8"
  }
 },
 "nbformat": 4,
 "nbformat_minor": 5
}
