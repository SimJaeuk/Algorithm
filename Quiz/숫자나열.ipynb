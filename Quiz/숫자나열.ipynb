{
 "cells": [
  {
   "cell_type": "code",
   "execution_count": null,
   "metadata": {},
   "outputs": [],
   "source": [
    "일정한 규칙을 가지고있는 숫자를 나열하는 놀이를 하는 중입니다. \n",
    "이전 숫자에서 각 숫자의 갯수를 나타내어 숫자로 만들고 다시 그 숫자를 같은 규칙으로 만들며 나열 합니다. \n",
    "이 놀이는 1부터 시작합니다. \n",
    "다음수는 1이 1개 이기때문에 '11'이 되고 '11'에서 1이 2개이기때문에 그 다음은 '12'가 됩니다. 즉,\n",
    "1. 1  → (1) \n",
    "2. 11 → (1이 1개) \n",
    "3. 12 → (1이 2개) \n",
    "4. 1121 → (1이 1개 2가 1개) \n",
    "5. 1321 → (1이 3개 2가 1개) \n",
    "6. 122131 → (1이 2개 2가 1개 3이 1개) \n",
    "7. 132231 → (1이 3개 2가 2개 3이 1개)"
   ]
  },
  {
   "cell_type": "code",
   "execution_count": 5,
   "metadata": {},
   "outputs": [
    {
     "data": {
      "text/plain": [
       "'122131'"
      ]
     },
     "execution_count": 5,
     "metadata": {},
     "output_type": "execute_result"
    }
   ],
   "source": [
    "def test(ex) :    \n",
    "    maxNum = max([int(i) for i in str(ex)])                                          # 넘겨준 숫자에서 가장 최대 숫자를 뽑아낸다.\n",
    "    countNum = [ str(i)+str(str(ex).count(str(i))) for i in range(1,maxNum+1) ]     # 숫자의 count를 해당 숫자와 합쳐 리스트로 만든다.\n",
    "    return ''.join(countNum)                                                        # join을 이용하여 합쳐 출력\n",
    "\n",
    "def soultion(N):\n",
    "    num = 1                      # N == 1 이면 1반환                                                                   \n",
    "    if N == 1 :                                                                     \n",
    "        return num   \n",
    "    else :                      # N != 1 이면 N만큼 for문을 돌린다.\n",
    "        for i in range(N-1):\n",
    "            num = test(num)\n",
    "    return num\n",
    "soultion(6)"
   ]
  },
  {
   "cell_type": "code",
   "execution_count": 9,
   "metadata": {},
   "outputs": [
    {
     "ename": "TypeError",
     "evalue": "countAndSay() missing 1 required positional argument: 'n'",
     "output_type": "error",
     "traceback": [
      "\u001b[1;31m---------------------------------------------------------------------------\u001b[0m",
      "\u001b[1;31mTypeError\u001b[0m                                 Traceback (most recent call last)",
      "\u001b[1;32m<ipython-input-9-133b18b90c6c>\u001b[0m in \u001b[0;36m<module>\u001b[1;34m\u001b[0m\n\u001b[0;32m     34\u001b[0m         \u001b[1;32mreturn\u001b[0m \u001b[0mresult\u001b[0m\u001b[1;33m\u001b[0m\u001b[1;33m\u001b[0m\u001b[0m\n\u001b[0;32m     35\u001b[0m \u001b[1;33m\u001b[0m\u001b[0m\n\u001b[1;32m---> 36\u001b[1;33m \u001b[0mprint\u001b[0m\u001b[1;33m(\u001b[0m\u001b[0mSolution\u001b[0m\u001b[1;33m.\u001b[0m\u001b[0mcountAndSay\u001b[0m\u001b[1;33m(\u001b[0m\u001b[1;36m1\u001b[0m\u001b[1;33m)\u001b[0m\u001b[1;33m)\u001b[0m\u001b[1;33m\u001b[0m\u001b[1;33m\u001b[0m\u001b[0m\n\u001b[0m\u001b[0;32m     37\u001b[0m \u001b[0mprint\u001b[0m\u001b[1;33m(\u001b[0m\u001b[0ms\u001b[0m\u001b[1;33m.\u001b[0m\u001b[0mcountAndSay\u001b[0m\u001b[1;33m(\u001b[0m\u001b[1;36m2\u001b[0m\u001b[1;33m)\u001b[0m\u001b[1;33m)\u001b[0m\u001b[1;33m\u001b[0m\u001b[1;33m\u001b[0m\u001b[0m\n\u001b[0;32m     38\u001b[0m \u001b[0mprint\u001b[0m\u001b[1;33m(\u001b[0m\u001b[0ms\u001b[0m\u001b[1;33m.\u001b[0m\u001b[0mcountAndSay\u001b[0m\u001b[1;33m(\u001b[0m\u001b[1;36m3\u001b[0m\u001b[1;33m)\u001b[0m\u001b[1;33m)\u001b[0m\u001b[1;33m\u001b[0m\u001b[1;33m\u001b[0m\u001b[0m\n",
      "\u001b[1;31mTypeError\u001b[0m: countAndSay() missing 1 required positional argument: 'n'"
     ]
    }
   ],
   "source": [
    "class Solution:\n",
    "    def countAndSay(self, n: int) -> str:\n",
    "\n",
    "        start_n = 1\n",
    "        result = '1'\n",
    "        while start_n < n:\n",
    "            cur_n = result[0]\n",
    "            cnt = 1\n",
    "            new_result = ''\n",
    "\n",
    "            if len(result) == 1:\n",
    "                start_n += 1\n",
    "                result = '11'\n",
    "                continue\n",
    "\n",
    "            for i in range(1, len(result)):\n",
    "\n",
    "                if cur_n != result[i]:\n",
    "                    new_result += str(cnt)\n",
    "                    new_result += str(cur_n)\n",
    "\n",
    "                    # reset\n",
    "                    cur_n = result[i]\n",
    "                    cnt = 1\n",
    "                else:\n",
    "                    cnt += 1\n",
    "\n",
    "                # last_idx\n",
    "                if len(result) -1 == i:\n",
    "                    new_result += str(cnt)\n",
    "                    new_result += str(cur_n)\n",
    "            start_n += 1\n",
    "            result = new_result\n",
    "        return result\n",
    "\n",
    "\n",
    "s = Solution()\n",
    "Solution.countAndSay(1)\n",
    "s.countAndSay(2)\n",
    "s.countAndSay(3)\n",
    "s.countAndSay(4)"
   ]
  },
  {
   "cell_type": "code",
   "execution_count": 20,
   "metadata": {},
   "outputs": [
    {
     "name": "stdout",
     "output_type": "stream",
     "text": [
      "1\n",
      "1211\n"
     ]
    }
   ],
   "source": [
    "class Solution:                                   #클래스 생성\n",
    "    def countAndSay(self, n: int) -> str:         #함수 생성 리턴값 str로 정해주기\n",
    "        \n",
    "        start = '1'                                #초기값 설정\n",
    "        for i in range(n-1):                      #n-1만큼 반복\n",
    "            first_char = start[0]                  #start 변수의 첫번쨰 문자 담을 변수 생성\n",
    "            new_start = ''                         #초기값 설정\n",
    "            count = 0                              #카운트할 변수 생성\n",
    "            \n",
    "            for char in start:                     #이전 포문 안의 모든 문자 반복\n",
    "                if first_char == char:             #문자가 같은경우\n",
    "                    count += 1                      #카운트 증가\n",
    "                else:                                    #같지 않은경우\n",
    "                    new_start += str(count)+first_char  # 다른 문자를 라면 \n",
    "                    first_char = char                    #첫 번째_char를 업데이트\n",
    "                    count = 1                            # 카운트 = 1\n",
    "                    \n",
    "            new_start += str(count)+first_char          #new_start = str(count) + first_char +new_start\n",
    "            start = new_start                           # start = new_start\n",
    "            \n",
    "        return start                                  #start값 반환\n",
    "    \n",
    "\n",
    "print(Solution().countAndSay(1))                     #출력\n",
    "print(Solution().countAndSay(4))                     #출력"
   ]
  },
  {
   "cell_type": "code",
   "execution_count": null,
   "metadata": {},
   "outputs": [],
   "source": []
  }
 ],
 "metadata": {
  "kernelspec": {
   "display_name": "Python 3",
   "language": "python",
   "name": "python3"
  },
  "language_info": {
   "codemirror_mode": {
    "name": "ipython",
    "version": 3
   },
   "file_extension": ".py",
   "mimetype": "text/x-python",
   "name": "python",
   "nbconvert_exporter": "python",
   "pygments_lexer": "ipython3",
   "version": "3.8.5"
  }
 },
 "nbformat": 4,
 "nbformat_minor": 4
}
