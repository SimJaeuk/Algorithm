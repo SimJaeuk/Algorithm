{
 "cells": [
  {
   "cell_type": "code",
   "execution_count": null,
   "id": "south-theater",
   "metadata": {},
   "outputs": [],
   "source": [
    "첫 번째 항의 값이 0이고 두 번째 항의 값이 1일 때, 이후의 항들은 이전의 두 항을 더한 값으로 이루어지는 수열을 만드시오."
   ]
  },
  {
   "cell_type": "code",
   "execution_count": 47,
   "id": "behavioral-academy",
   "metadata": {},
   "outputs": [
    {
     "name": "stdout",
     "output_type": "stream",
     "text": [
      "num? : 13\n",
      "0, 1, 1, 2, 3, 5, 8, 13, 21, 34, 55, 89, 144, "
     ]
    }
   ],
   "source": [
    "def fibo(n):\n",
    "    if n < 2:\n",
    "        return n\n",
    "\n",
    "    a, b = 0, 1\n",
    "    for i in range(n-1):\n",
    "        a, b = b, a + b\n",
    "\n",
    "    return b\n",
    "\n",
    "\n",
    "for n in range(0, n):\n",
    "    print(fibo(n), end =', ')"
   ]
  },
  {
   "cell_type": "code",
   "execution_count": 6,
   "id": "deluxe-third",
   "metadata": {},
   "outputs": [
    {
     "name": "stdout",
     "output_type": "stream",
     "text": [
      "num? : 13\n",
      "0, 1, 1, 2, 3, 5, 8, 13"
     ]
    }
   ],
   "source": [
    "n = int(input(\"num? : \")) #변수 n에 정수 입력받기\n",
    "a=0 # a = 0 대입\n",
    "b=1 # b = 1 대입\n",
    "print('0', end='') # 맨 앞부분 0 출력 후 end로 붙이기\n",
    "while b <= n: # 반복문 n이 1보다 작거나 같으면\n",
    "    print(', %d' %b, end='') # b, a+b 출력 후 end로 붙이기\n",
    "    a,b = b,a+b #  a,b는 b,a+b\n",
    "    \n",
    "#계속 b만 찍으면됨"
   ]
  },
  {
   "cell_type": "code",
   "execution_count": 14,
   "id": "thrown-silence",
   "metadata": {},
   "outputs": [
    {
     "name": "stdout",
     "output_type": "stream",
     "text": [
      "num? : 7\n",
      "[1, 1, 2, 3, 5, 8, 13]\n"
     ]
    }
   ],
   "source": [
    "def fib(num):\n",
    "    result = []\n",
    "    \n",
    "    first = 1\n",
    "    second = 1\n",
    "    result.append(first)\n",
    "    result.append(second)\n",
    "    for i in range(2, num):\n",
    "        third = first + second\n",
    "        result.append(third)\n",
    "        first = second\n",
    "        second = third\n",
    "\n",
    "        \n",
    "    return result\n",
    "    \n",
    "    \n",
    "print(fib(int(input(\"num? : \"))))"
   ]
  },
  {
   "cell_type": "code",
   "execution_count": 6,
   "id": "republican-people",
   "metadata": {},
    }
   ],
   "source": [
    "def fib(n):\n",
    "    if n <= 1:\n",
    "        return n\n",
    "    return fib(n-1) + fib(n-2)\n",
    "\n",
    "print(fib(100))"
   ]
  },
  {
   "cell_type": "code",
   "execution_count": 30,
   "id": "dramatic-culture",
   "metadata": {},
   "outputs": [
    {
     "name": "stdout",
     "output_type": "stream",
     "text": [
      "89\n"
     ]
    }
   ],
   "source": [
    "def fib(n):\n",
    "    if n < 3:\n",
    "        return 1\n",
    "    else:\n",
    "        return fib(n-1) + fib(n-2)\n",
    "\n",
    "print(fib(11))"
   ]
  },
  {
   "cell_type": "code",
   "execution_count": null,
   "id": "adopted-apple",
   "metadata": {},
   "outputs": [],
   "source": [
    "n = int(input(\"num? : \")) #변수 n에 정수 입력받기\n",
    "a=0 # a = 0 대입\n",
    "b=1 # b = 1 대입\n",
    "print('0', end='') # 맨 앞부분 0 출력 후 end로 붙이기\n",
    "while b <= n: # 반복문 n이 1보다 작거나 같으면\n",
    "    print(', %d' %b, end='') # b, a+b 출력 후 end로 붙이기\n",
    "    a,b = b,a+b #  a,b는 b,a+b\n",
    "    \n",
    "#계속 b만 찍으면됨"
   ]
  },
  {
   "cell_type": "code",
   "execution_count": 25,
   "id": "authorized-parade",
   "metadata": {},
   "outputs": [],
   "source": [
    "def fibo_list(n):\n",
    "    for i in range(n):\n",
    "        print(fibo_list(i), end= \" \")"
   ]
  },
  {
   "cell_type": "code",
   "execution_count": 23,
   "id": "divine-fighter",
   "metadata": {},
   "outputs": [
    {
     "ename": "NameError",
     "evalue": "name 'fibo' is not defined",
     "output_type": "error",
     "traceback": [
      "\u001b[1;31m---------------------------------------------------------------------------\u001b[0m",
      "\u001b[1;31mNameError\u001b[0m                                 Traceback (most recent call last)",
      "\u001b[1;32m<ipython-input-23-17d6ea904962>\u001b[0m in \u001b[0;36m<module>\u001b[1;34m\u001b[0m\n\u001b[1;32m----> 1\u001b[1;33m \u001b[0mfibo_list\u001b[0m\u001b[1;33m(\u001b[0m\u001b[1;36m11\u001b[0m\u001b[1;33m)\u001b[0m\u001b[1;33m\u001b[0m\u001b[1;33m\u001b[0m\u001b[0m\n\u001b[0m",
      "\u001b[1;32m<ipython-input-22-2f590a4497a2>\u001b[0m in \u001b[0;36mfibo_list\u001b[1;34m(n)\u001b[0m\n\u001b[0;32m      1\u001b[0m \u001b[1;32mdef\u001b[0m \u001b[0mfibo_list\u001b[0m\u001b[1;33m(\u001b[0m\u001b[0mn\u001b[0m\u001b[1;33m)\u001b[0m\u001b[1;33m:\u001b[0m\u001b[1;33m\u001b[0m\u001b[1;33m\u001b[0m\u001b[0m\n\u001b[0;32m      2\u001b[0m     \u001b[1;32mfor\u001b[0m \u001b[0mi\u001b[0m \u001b[1;32min\u001b[0m \u001b[0mrange\u001b[0m\u001b[1;33m(\u001b[0m\u001b[0mn\u001b[0m\u001b[1;33m)\u001b[0m\u001b[1;33m:\u001b[0m\u001b[1;33m\u001b[0m\u001b[1;33m\u001b[0m\u001b[0m\n\u001b[1;32m----> 3\u001b[1;33m         \u001b[0mprint\u001b[0m\u001b[1;33m(\u001b[0m\u001b[0mfibo\u001b[0m\u001b[1;33m(\u001b[0m\u001b[0mi\u001b[0m\u001b[1;33m)\u001b[0m\u001b[1;33m,\u001b[0m \u001b[0mend\u001b[0m\u001b[1;33m=\u001b[0m \u001b[1;34m\" \"\u001b[0m\u001b[1;33m)\u001b[0m\u001b[1;33m\u001b[0m\u001b[1;33m\u001b[0m\u001b[0m\n\u001b[0m",
      "\u001b[1;31mNameError\u001b[0m: name 'fibo' is not defined"
     ]
    }
   ],
   "source": []
  },
  {
   "cell_type": "code",
   "execution_count": 27,
   "id": "victorian-hollywood",
   "metadata": {},
   "outputs": [],
   "source": [
    "def fibo(n):\n",
    "    # 재귀함수는 탈출조건이 꼭 필요하다.\n",
    "    if n == 0 or n == 1:\n",
    "        return 1\n",
    "    return fibo(n-2) + fibo(n-1)"
   ]
  },
  {
   "cell_type": "code",
   "execution_count": 29,
   "id": "suburban-emperor",
   "metadata": {},
   "outputs": [
    {
     "data": {
      "text/plain": [
       "89"
      ]
     },
     "execution_count": 29,
     "metadata": {},
     "output_type": "execute_result"
    }
   ],
   "source": [
    "fibo(10)"
   ]
  },
  {
   "cell_type": "code",
   "execution_count": 37,
   "id": "greatest-jewel",
   "metadata": {},
   "outputs": [
    {
     "data": {
      "text/plain": [
       "89"
      ]
     },
     "execution_count": 37,
     "metadata": {},
     "output_type": "execute_result"
    }
   ],
   "source": [
    "def fib(num):\n",
    "    if num == 0: \n",
    "        return 0 \n",
    "    if num == 1 or num == 2: \n",
    "        return 1\n",
    " \n",
    "    return fib(num - 2) + fib(num - 1)\n",
    "\n",
    "fib(11)"
   ]
  },
  {
   "cell_type": "code",
   "execution_count": 52,
   "id": "revolutionary-peoples",
   "metadata": {},
   "outputs": [
    {
     "name": "stdout",
     "output_type": "stream",
     "text": [
      "1 1 2 3 5 8 13 21 34 55 89 "
     ]
    }
   ],
   "source": [
    "def fib(n):     #함수 생성\n",
    "    if n == 0:  #n이 0이면 \n",
    "        return  #0을 리턴\n",
    "    if n == 1:  #n이 1이면\n",
    "        return 1 #1을 리턴\n",
    " \n",
    "    if n < 3: # n == 1 or n == 2 일때 \n",
    "        return 1 #1을 리턴\n",
    " \n",
    "    return fib(n-1)+fib(n-2) #\n",
    "\n",
    "for i in range(1, 12): #fib(1)부터 fib(12)까지 (11번째 까지) 반복문\n",
    "    print(fib(i),end=' ') #함수 출력"
   ]
  },
  {
   "cell_type": "code",
   "execution_count": 2,
   "id": "communist-model",
   "metadata": {},
   "outputs": [
    {
     "name": "stdout",
     "output_type": "stream",
     "text": [
      "1 1 2 3 5 8 13 21 34 55 89 "
     ]
    }
   ],
   "source": [
    "def fib(n): #함수 생성\n",
    "    if n <= 1: #n이 1이거나 1보다 작으면\n",
    "        return n #n을 돌려줌\n",
    "    return fib(n-1) + fib(n-2) #입력 값의 전 값과 입력 값의 전전 값을 더함\n",
    "\n",
    "for i in range(1, 12): #fib(1)부터 fib(12)까지 (11번째 까지) 반복문\n",
    "    print(fib(i),end=' ') #함수 출력"
   ]
  },
  {
   "cell_type": "code",
   "execution_count": 64,
   "id": "domestic-submission",
   "metadata": {},
   "outputs": [
    {
     "name": "stdout",
     "output_type": "stream",
     "text": [
      "몇 번째 수열까지 출력할까요?: 11\n",
      "1\n",
      "1\n",
      "2\n",
      "3\n",
      "5\n",
      "8\n",
      "13\n",
      "21\n",
      "34\n",
      "55\n",
      "89\n"
     ]
    }
   ],
   "source": [
    "def fibonacci(n):\n",
    "    if n == 1 or n == 2:\n",
    "        return 1\n",
    "    else:\n",
    "        return fibonacci(n - 1) + fibonacci(n - 2)\n",
    "\n",
    "n = int(input(\"몇 번째 수열까지 출력할까요?: \"))\n",
    "\n",
    "for i in range(1, n + 1):\n",
    "    print(fibonacci(i))"
   ]
  },
  {
   "cell_type": "code",
   "execution_count": null,
   "id": "german-detail",
   "metadata": {},
   "outputs": [],
   "source": []
  }
 ],
 "metadata": {
  "kernelspec": {
   "display_name": "Python 3",
   "language": "python",
   "name": "python3"
  },
  "language_info": {
   "codemirror_mode": {
    "name": "ipython",
    "version": 3
   },
   "file_extension": ".py",
   "mimetype": "text/x-python",
   "name": "python",
   "nbconvert_exporter": "python",
   "pygments_lexer": "ipython3",
   "version": "3.8.8"
  }
 },
 "nbformat": 4,
 "nbformat_minor": 5
}
