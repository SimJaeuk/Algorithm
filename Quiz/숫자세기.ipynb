{
 "cells": [
  {
   "cell_type": "code",
   "execution_count": 2,
   "id": "combined-registration",
   "metadata": {},
   "outputs": [
    {
     "ename": "SyntaxError",
     "evalue": "invalid syntax (<ipython-input-2-a1399a7816d7>, line 2)",
     "output_type": "error",
     "traceback": [
      "\u001b[1;36m  File \u001b[1;32m\"<ipython-input-2-a1399a7816d7>\"\u001b[1;36m, line \u001b[1;32m2\u001b[0m\n\u001b[1;33m    8 이라는 숫자를 모두 카운팅\u001b[0m\n\u001b[1;37m      ^\u001b[0m\n\u001b[1;31mSyntaxError\u001b[0m\u001b[1;31m:\u001b[0m invalid syntax\n"
     ]
    }
   ],
   "source": [
    "1부터 10,000까지 8이라는 숫자가 총 몇 번 나오는가?\n",
    "8 이라는 숫자를 모두 카운팅\n",
    "8808은 3,  8888은 4로 카운팅 해야 함"
   ]
  },
  {
   "cell_type": "code",
   "execution_count": 1,
   "id": "conditional-domestic",
   "metadata": {},
   "outputs": [
    {
     "name": "stdout",
     "output_type": "stream",
     "text": [
      "4000\n"
     ]
    }
   ],
   "source": [
    "num = str(list(range(10001))) #숫자 10,000까지 들어있는 리스트를 생성 후 문자열로 변환\n",
    "print(num.count('8')) #변수 안의 '8'을 찾아서 출력"
   ]
  },
  {
   "cell_type": "code",
   "execution_count": null,
   "id": "quiet-adoption",
   "metadata": {},
   "outputs": [],
   "source": []
  }
 ],
 "metadata": {
  "kernelspec": {
   "display_name": "Python 3",
   "language": "python",
   "name": "python3"
  },
  "language_info": {
   "codemirror_mode": {
    "name": "ipython",
    "version": 3
   },
   "file_extension": ".py",
   "mimetype": "text/x-python",
   "name": "python",
   "nbconvert_exporter": "python",
   "pygments_lexer": "ipython3",
   "version": "3.8.8"
  }
 },
 "nbformat": 4,
 "nbformat_minor": 5
}
