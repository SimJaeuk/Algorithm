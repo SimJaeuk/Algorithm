{
 "cells": [
  {
   "cell_type": "code",
   "execution_count": null,
   "metadata": {},
   "outputs": [],
   "source": [
    "숫자를 입력 받고 천단위로 콤마(,)를 찍어주세요."
   ]
  },
  {
   "cell_type": "code",
   "execution_count": 24,
   "metadata": {},
   "outputs": [
    {
     "data": {
      "text/plain": [
       "'123,456,789'"
      ]
     },
     "execution_count": 24,
     "metadata": {},
     "output_type": "execute_result"
    }
   ],
   "source": [
    "def comma(n) :                                            #함수 생성             \n",
    "    if len(n) <= 3 :                                      #만약 입력값의 길이가 3자리 보다 짧으면\n",
    "        return n                                          #그대로 출력\n",
    "    else :                                                 #아닌경우\n",
    "        return comma(n[:len(n)-3]) + ',' + n[len(n)-3:]   #뒤에서 3자리씩 끊어서 콤마로 구분\n",
    "\n",
    "comma('123456789')                                        #출력"
   ]
  }
 ],
 "metadata": {
  "kernelspec": {
   "display_name": "Python 3",
   "language": "python",
   "name": "python3"
  },
  "language_info": {
   "codemirror_mode": {
    "name": "ipython",
    "version": 3
   },
   "file_extension": ".py",
   "mimetype": "text/x-python",
   "name": "python",
   "nbconvert_exporter": "python",
   "pygments_lexer": "ipython3",
   "version": "3.8.5"
  }
 },
 "nbformat": 4,
 "nbformat_minor": 4
}
