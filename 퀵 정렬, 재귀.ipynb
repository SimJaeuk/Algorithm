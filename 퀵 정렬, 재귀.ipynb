{
 "cells": [
  {
   "cell_type": "code",
   "execution_count": 65,
   "id": "distributed-sound",
   "metadata": {},
   "outputs": [
    {
     "name": "stdout",
     "output_type": "stream",
     "text": [
      "[8] []\n",
      "[8, 12] []\n",
      "[8, 12, 1] []\n",
      "[8, 12, 1, 9] []\n",
      "[8, 12, 1, 9] [102]\n",
      "[8, 12, 1, 9, 25] [102]\n",
      "[8, 12, 1, 9, 25] [102, 32]\n",
      "[8, 12, 1, 9, 25] [102, 32, 98]\n",
      "[8] []\n",
      "[8, 12] []\n",
      "[8, 12, 1] []\n",
      "[8, 12, 1, 9] []\n",
      "[8] []\n",
      "[8] [12]\n",
      "[8, 1] [12]\n",
      "[] [8]\n",
      "[] [102]\n",
      "[32] [102]\n",
      "[1, 8, 9, 12, 25, 31, 32, 98, 102]\n"
     ]
    }
   ],
   "source": [
    "def Quick_sort(a):\n",
    "    n=len(a)\n",
    "    if n<=1: # 리스트가 1개면 정렬하지 않는다.\n",
    "        return a\n",
    "    pivot = a[-1] #리스트의 마지막을 피벗이라고 구함\n",
    "    g_left=[] # 피벗 수보다 작은 수를 담을 리스트\n",
    "    g_right=[] #피벗 수보다 큰 수를 담을 리스트\n",
    "    for i in range(0,n-1):\n",
    "        if a [i]<=pivot:\n",
    "            g_left.append(a[i]) #리스트의 수가 피벗보다 작으면 g_left 에 추가\n",
    "        else:\n",
    "            g_right.append(a[i])\n",
    "            \n",
    "        print(g_left, g_right)    \n",
    "    return Quick_sort(g_left)+ [pivot] +Quick_sort(g_right) #새로운 리스트를 만듬\n",
    "\n",
    "        \n",
    "d = [8,12,1,9,102,25,32,98,31]\n",
    "print(Quick_sort(d))"
   ]
  },
  {
   "cell_type": "code",
   "execution_count": 77,
   "id": "going-feeling",
   "metadata": {},
   "outputs": [
    {
     "name": "stdout",
     "output_type": "stream",
     "text": [
      "hi\n",
      "hi\n",
      "hi\n",
      "hi\n",
      "hi\n",
      "hi\n",
      "hi\n",
      "hi\n",
      "hi\n",
      "hi\n",
      "hi\n"
     ]
    }
   ],
   "source": [
    "#재귀함수를 사용할 때에는 종료 시점을 설정해야만 한다. / 무한루프 방지\n",
    "\n",
    "def rec_func(i):\n",
    "    print(\"hi\")\n",
    "    if i < 10:\n",
    "        rec_func(i+1)\n",
    "\n",
    "rec_func(0)"
   ]
  },
  {
   "cell_type": "code",
   "execution_count": 7,
   "id": "secure-roots",
   "metadata": {},
   "outputs": [
    {
     "data": {
      "text/plain": [
       "55"
      ]
     },
     "execution_count": 7,
     "metadata": {},
     "output_type": "execute_result"
    }
   ],
   "source": [
    "def jegui(i):\n",
    "    if i <= 1: \n",
    "        return 1\n",
    "    return i + jegui(i-1)\n",
    "\n",
    "jegui(10)"
   ]
  },
  {
   "cell_type": "code",
   "execution_count": null,
   "id": "requested-bridge",
   "metadata": {},
   "outputs": [],
   "source": []
  }
 ],
 "metadata": {
  "kernelspec": {
   "display_name": "Python 3",
   "language": "python",
   "name": "python3"
  },
  "language_info": {
   "codemirror_mode": {
    "name": "ipython",
    "version": 3
   },
   "file_extension": ".py",
   "mimetype": "text/x-python",
   "name": "python",
   "nbconvert_exporter": "python",
   "pygments_lexer": "ipython3",
   "version": "3.8.8"
  }
 },
 "nbformat": 4,
 "nbformat_minor": 5
}
